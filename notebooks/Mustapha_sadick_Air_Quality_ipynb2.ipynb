{
  "nbformat": 4,
  "nbformat_minor": 0,
  "metadata": {
    "colab": {
      "provenance": []
    },
    "kernelspec": {
      "name": "python3",
      "display_name": "Python 3"
    },
    "language_info": {
      "name": "python"
    }
  },
  "cells": [
    {
      "cell_type": "markdown",
      "source": [
        "#**Beijing Air Quality Forecasting Starter Notebook**"
      ],
      "metadata": {
        "id": "r8BNk--ff-QQ"
      }
    },
    {
      "cell_type": "code",
      "execution_count": 1,
      "metadata": {
        "id": "O6kXNwL7eUZP"
      },
      "outputs": [],
      "source": [
        "# Import necessary libraries\n",
        "import pandas as pd\n",
        "import numpy as np\n",
        "import matplotlib.pyplot as plt\n",
        "from sklearn.preprocessing import MinMaxScaler, LabelEncoder\n",
        "from sklearn.metrics import mean_squared_error\n",
        "from math import sqrt\n",
        "from tensorflow.keras.models import Sequential\n",
        "from tensorflow.keras.layers import LSTM, Dense\n",
        "from tensorflow.keras.optimizers import Adam\n",
        "from tensorflow.keras.callbacks import EarlyStopping, ReduceLROnPlateau\n",
        "import tensorflow as tf\n",
        "import os"
      ]
    },
    {
      "cell_type": "code",
      "source": [
        "# Mount Google Drive to access datasets\n",
        "from google.colab import drive\n",
        "drive.mount('/content/drive')"
      ],
      "metadata": {
        "colab": {
          "base_uri": "https://localhost:8080/"
        },
        "id": "jwr3QGd2eaPN",
        "outputId": "4b86f4a8-04dd-489a-a499-8bc8388cf0b9"
      },
      "execution_count": 2,
      "outputs": [
        {
          "output_type": "stream",
          "name": "stdout",
          "text": [
            "Mounted at /content/drive\n"
          ]
        }
      ]
    },
    {
      "cell_type": "markdown",
      "source": [
        "##**Data Preperation**\n",
        "\n"
      ],
      "metadata": {
        "id": "WlXKYIAJUS6j"
      }
    },
    {
      "cell_type": "markdown",
      "source": [
        "## **Load and preprocess data**"
      ],
      "metadata": {
        "id": "13RMoCzcV1hF"
      }
    },
    {
      "cell_type": "code",
      "source": [
        "# Load the datasets\n",
        "# Ensure train.csv and test.csv are saved in your Google Drive in the same folder.\n",
        "# Replace the file paths below with the actual paths to your dataset.\n",
        "train = pd.read_csv('/content/drive/MyDrive/Kaggle_competition_ML/air_quality_forcasting/train.csv',\n",
        "                    header=0, skiprows=[1])\n",
        "test = pd.read_csv('/content/drive/MyDrive/Kaggle_competition_ML/air_quality_forcasting/test.csv',\n",
        "                   header=0, skiprows=[1])"
      ],
      "metadata": {
        "id": "bG3WefcqeaaH"
      },
      "execution_count": 3,
      "outputs": []
    },
    {
      "cell_type": "markdown",
      "source": [
        "## **Explore the training data**\n",
        "\n",
        "In this sections explore your dataset with appropiate statistics and visualisations to understand your better. Ensure that you explain output of every code cell and what it entails."
      ],
      "metadata": {
        "id": "rL8K-0jhepOk"
      }
    },
    {
      "cell_type": "code",
      "source": [
        "# Inspecting the first few rows of the dataset to understand its structure.\n",
        "print(\"Training Data Overview:\")\n",
        "train.head()"
      ],
      "metadata": {
        "colab": {
          "base_uri": "https://localhost:8080/",
          "height": 417
        },
        "id": "oxRO7w-Oeaca",
        "outputId": "e053d88f-0ff1-4a1e-a0a9-eedee3c0782e"
      },
      "execution_count": 4,
      "outputs": [
        {
          "output_type": "stream",
          "name": "stdout",
          "text": [
            "Training Data Overview:\n"
          ]
        },
        {
          "output_type": "execute_result",
          "data": {
            "text/plain": [
              "   No      DEWP      TEMP      PRES       Iws        Is        Ir  \\\n",
              "0   2 -1.580878 -2.004228  0.345943 -0.379306 -0.069353 -0.137667   \n",
              "1   3 -1.580878 -1.922250  0.248559 -0.343514 -0.069353 -0.137667   \n",
              "2   4 -1.580878 -2.168183  0.248559 -0.280926 -0.069353 -0.137667   \n",
              "3   5 -1.511594 -2.004228  0.151174 -0.218339 -0.069353 -0.137667   \n",
              "4   6 -1.442309 -1.840273  0.053790 -0.155751 -0.069353 -0.137667   \n",
              "\n",
              "              datetime   cbwd_NW   cbwd_SE   cbwd_cv  pm2.5  \n",
              "0  2010-01-01 01:00:00  1.448138 -0.732019 -0.522096    NaN  \n",
              "1  2010-01-01 02:00:00  1.448138 -0.732019 -0.522096    NaN  \n",
              "2  2010-01-01 03:00:00  1.448138 -0.732019 -0.522096    NaN  \n",
              "3  2010-01-01 04:00:00  1.448138 -0.732019 -0.522096    NaN  \n",
              "4  2010-01-01 05:00:00  1.448138 -0.732019 -0.522096    NaN  "
            ],
            "text/html": [
              "\n",
              "  <div id=\"df-6d3b7278-c730-4372-b704-1728fbd64fe8\" class=\"colab-df-container\">\n",
              "    <div>\n",
              "<style scoped>\n",
              "    .dataframe tbody tr th:only-of-type {\n",
              "        vertical-align: middle;\n",
              "    }\n",
              "\n",
              "    .dataframe tbody tr th {\n",
              "        vertical-align: top;\n",
              "    }\n",
              "\n",
              "    .dataframe thead th {\n",
              "        text-align: right;\n",
              "    }\n",
              "</style>\n",
              "<table border=\"1\" class=\"dataframe\">\n",
              "  <thead>\n",
              "    <tr style=\"text-align: right;\">\n",
              "      <th></th>\n",
              "      <th>No</th>\n",
              "      <th>DEWP</th>\n",
              "      <th>TEMP</th>\n",
              "      <th>PRES</th>\n",
              "      <th>Iws</th>\n",
              "      <th>Is</th>\n",
              "      <th>Ir</th>\n",
              "      <th>datetime</th>\n",
              "      <th>cbwd_NW</th>\n",
              "      <th>cbwd_SE</th>\n",
              "      <th>cbwd_cv</th>\n",
              "      <th>pm2.5</th>\n",
              "    </tr>\n",
              "  </thead>\n",
              "  <tbody>\n",
              "    <tr>\n",
              "      <th>0</th>\n",
              "      <td>2</td>\n",
              "      <td>-1.580878</td>\n",
              "      <td>-2.004228</td>\n",
              "      <td>0.345943</td>\n",
              "      <td>-0.379306</td>\n",
              "      <td>-0.069353</td>\n",
              "      <td>-0.137667</td>\n",
              "      <td>2010-01-01 01:00:00</td>\n",
              "      <td>1.448138</td>\n",
              "      <td>-0.732019</td>\n",
              "      <td>-0.522096</td>\n",
              "      <td>NaN</td>\n",
              "    </tr>\n",
              "    <tr>\n",
              "      <th>1</th>\n",
              "      <td>3</td>\n",
              "      <td>-1.580878</td>\n",
              "      <td>-1.922250</td>\n",
              "      <td>0.248559</td>\n",
              "      <td>-0.343514</td>\n",
              "      <td>-0.069353</td>\n",
              "      <td>-0.137667</td>\n",
              "      <td>2010-01-01 02:00:00</td>\n",
              "      <td>1.448138</td>\n",
              "      <td>-0.732019</td>\n",
              "      <td>-0.522096</td>\n",
              "      <td>NaN</td>\n",
              "    </tr>\n",
              "    <tr>\n",
              "      <th>2</th>\n",
              "      <td>4</td>\n",
              "      <td>-1.580878</td>\n",
              "      <td>-2.168183</td>\n",
              "      <td>0.248559</td>\n",
              "      <td>-0.280926</td>\n",
              "      <td>-0.069353</td>\n",
              "      <td>-0.137667</td>\n",
              "      <td>2010-01-01 03:00:00</td>\n",
              "      <td>1.448138</td>\n",
              "      <td>-0.732019</td>\n",
              "      <td>-0.522096</td>\n",
              "      <td>NaN</td>\n",
              "    </tr>\n",
              "    <tr>\n",
              "      <th>3</th>\n",
              "      <td>5</td>\n",
              "      <td>-1.511594</td>\n",
              "      <td>-2.004228</td>\n",
              "      <td>0.151174</td>\n",
              "      <td>-0.218339</td>\n",
              "      <td>-0.069353</td>\n",
              "      <td>-0.137667</td>\n",
              "      <td>2010-01-01 04:00:00</td>\n",
              "      <td>1.448138</td>\n",
              "      <td>-0.732019</td>\n",
              "      <td>-0.522096</td>\n",
              "      <td>NaN</td>\n",
              "    </tr>\n",
              "    <tr>\n",
              "      <th>4</th>\n",
              "      <td>6</td>\n",
              "      <td>-1.442309</td>\n",
              "      <td>-1.840273</td>\n",
              "      <td>0.053790</td>\n",
              "      <td>-0.155751</td>\n",
              "      <td>-0.069353</td>\n",
              "      <td>-0.137667</td>\n",
              "      <td>2010-01-01 05:00:00</td>\n",
              "      <td>1.448138</td>\n",
              "      <td>-0.732019</td>\n",
              "      <td>-0.522096</td>\n",
              "      <td>NaN</td>\n",
              "    </tr>\n",
              "  </tbody>\n",
              "</table>\n",
              "</div>\n",
              "    <div class=\"colab-df-buttons\">\n",
              "\n",
              "  <div class=\"colab-df-container\">\n",
              "    <button class=\"colab-df-convert\" onclick=\"convertToInteractive('df-6d3b7278-c730-4372-b704-1728fbd64fe8')\"\n",
              "            title=\"Convert this dataframe to an interactive table.\"\n",
              "            style=\"display:none;\">\n",
              "\n",
              "  <svg xmlns=\"http://www.w3.org/2000/svg\" height=\"24px\" viewBox=\"0 -960 960 960\">\n",
              "    <path d=\"M120-120v-720h720v720H120Zm60-500h600v-160H180v160Zm220 220h160v-160H400v160Zm0 220h160v-160H400v160ZM180-400h160v-160H180v160Zm440 0h160v-160H620v160ZM180-180h160v-160H180v160Zm440 0h160v-160H620v160Z\"/>\n",
              "  </svg>\n",
              "    </button>\n",
              "\n",
              "  <style>\n",
              "    .colab-df-container {\n",
              "      display:flex;\n",
              "      gap: 12px;\n",
              "    }\n",
              "\n",
              "    .colab-df-convert {\n",
              "      background-color: #E8F0FE;\n",
              "      border: none;\n",
              "      border-radius: 50%;\n",
              "      cursor: pointer;\n",
              "      display: none;\n",
              "      fill: #1967D2;\n",
              "      height: 32px;\n",
              "      padding: 0 0 0 0;\n",
              "      width: 32px;\n",
              "    }\n",
              "\n",
              "    .colab-df-convert:hover {\n",
              "      background-color: #E2EBFA;\n",
              "      box-shadow: 0px 1px 2px rgba(60, 64, 67, 0.3), 0px 1px 3px 1px rgba(60, 64, 67, 0.15);\n",
              "      fill: #174EA6;\n",
              "    }\n",
              "\n",
              "    .colab-df-buttons div {\n",
              "      margin-bottom: 4px;\n",
              "    }\n",
              "\n",
              "    [theme=dark] .colab-df-convert {\n",
              "      background-color: #3B4455;\n",
              "      fill: #D2E3FC;\n",
              "    }\n",
              "\n",
              "    [theme=dark] .colab-df-convert:hover {\n",
              "      background-color: #434B5C;\n",
              "      box-shadow: 0px 1px 3px 1px rgba(0, 0, 0, 0.15);\n",
              "      filter: drop-shadow(0px 1px 2px rgba(0, 0, 0, 0.3));\n",
              "      fill: #FFFFFF;\n",
              "    }\n",
              "  </style>\n",
              "\n",
              "    <script>\n",
              "      const buttonEl =\n",
              "        document.querySelector('#df-6d3b7278-c730-4372-b704-1728fbd64fe8 button.colab-df-convert');\n",
              "      buttonEl.style.display =\n",
              "        google.colab.kernel.accessAllowed ? 'block' : 'none';\n",
              "\n",
              "      async function convertToInteractive(key) {\n",
              "        const element = document.querySelector('#df-6d3b7278-c730-4372-b704-1728fbd64fe8');\n",
              "        const dataTable =\n",
              "          await google.colab.kernel.invokeFunction('convertToInteractive',\n",
              "                                                    [key], {});\n",
              "        if (!dataTable) return;\n",
              "\n",
              "        const docLinkHtml = 'Like what you see? Visit the ' +\n",
              "          '<a target=\"_blank\" href=https://colab.research.google.com/notebooks/data_table.ipynb>data table notebook</a>'\n",
              "          + ' to learn more about interactive tables.';\n",
              "        element.innerHTML = '';\n",
              "        dataTable['output_type'] = 'display_data';\n",
              "        await google.colab.output.renderOutput(dataTable, element);\n",
              "        const docLink = document.createElement('div');\n",
              "        docLink.innerHTML = docLinkHtml;\n",
              "        element.appendChild(docLink);\n",
              "      }\n",
              "    </script>\n",
              "  </div>\n",
              "\n",
              "\n",
              "<div id=\"df-7f03c0f4-8153-431a-806f-269f1812f54d\">\n",
              "  <button class=\"colab-df-quickchart\" onclick=\"quickchart('df-7f03c0f4-8153-431a-806f-269f1812f54d')\"\n",
              "            title=\"Suggest charts\"\n",
              "            style=\"display:none;\">\n",
              "\n",
              "<svg xmlns=\"http://www.w3.org/2000/svg\" height=\"24px\"viewBox=\"0 0 24 24\"\n",
              "     width=\"24px\">\n",
              "    <g>\n",
              "        <path d=\"M19 3H5c-1.1 0-2 .9-2 2v14c0 1.1.9 2 2 2h14c1.1 0 2-.9 2-2V5c0-1.1-.9-2-2-2zM9 17H7v-7h2v7zm4 0h-2V7h2v10zm4 0h-2v-4h2v4z\"/>\n",
              "    </g>\n",
              "</svg>\n",
              "  </button>\n",
              "\n",
              "<style>\n",
              "  .colab-df-quickchart {\n",
              "      --bg-color: #E8F0FE;\n",
              "      --fill-color: #1967D2;\n",
              "      --hover-bg-color: #E2EBFA;\n",
              "      --hover-fill-color: #174EA6;\n",
              "      --disabled-fill-color: #AAA;\n",
              "      --disabled-bg-color: #DDD;\n",
              "  }\n",
              "\n",
              "  [theme=dark] .colab-df-quickchart {\n",
              "      --bg-color: #3B4455;\n",
              "      --fill-color: #D2E3FC;\n",
              "      --hover-bg-color: #434B5C;\n",
              "      --hover-fill-color: #FFFFFF;\n",
              "      --disabled-bg-color: #3B4455;\n",
              "      --disabled-fill-color: #666;\n",
              "  }\n",
              "\n",
              "  .colab-df-quickchart {\n",
              "    background-color: var(--bg-color);\n",
              "    border: none;\n",
              "    border-radius: 50%;\n",
              "    cursor: pointer;\n",
              "    display: none;\n",
              "    fill: var(--fill-color);\n",
              "    height: 32px;\n",
              "    padding: 0;\n",
              "    width: 32px;\n",
              "  }\n",
              "\n",
              "  .colab-df-quickchart:hover {\n",
              "    background-color: var(--hover-bg-color);\n",
              "    box-shadow: 0 1px 2px rgba(60, 64, 67, 0.3), 0 1px 3px 1px rgba(60, 64, 67, 0.15);\n",
              "    fill: var(--button-hover-fill-color);\n",
              "  }\n",
              "\n",
              "  .colab-df-quickchart-complete:disabled,\n",
              "  .colab-df-quickchart-complete:disabled:hover {\n",
              "    background-color: var(--disabled-bg-color);\n",
              "    fill: var(--disabled-fill-color);\n",
              "    box-shadow: none;\n",
              "  }\n",
              "\n",
              "  .colab-df-spinner {\n",
              "    border: 2px solid var(--fill-color);\n",
              "    border-color: transparent;\n",
              "    border-bottom-color: var(--fill-color);\n",
              "    animation:\n",
              "      spin 1s steps(1) infinite;\n",
              "  }\n",
              "\n",
              "  @keyframes spin {\n",
              "    0% {\n",
              "      border-color: transparent;\n",
              "      border-bottom-color: var(--fill-color);\n",
              "      border-left-color: var(--fill-color);\n",
              "    }\n",
              "    20% {\n",
              "      border-color: transparent;\n",
              "      border-left-color: var(--fill-color);\n",
              "      border-top-color: var(--fill-color);\n",
              "    }\n",
              "    30% {\n",
              "      border-color: transparent;\n",
              "      border-left-color: var(--fill-color);\n",
              "      border-top-color: var(--fill-color);\n",
              "      border-right-color: var(--fill-color);\n",
              "    }\n",
              "    40% {\n",
              "      border-color: transparent;\n",
              "      border-right-color: var(--fill-color);\n",
              "      border-top-color: var(--fill-color);\n",
              "    }\n",
              "    60% {\n",
              "      border-color: transparent;\n",
              "      border-right-color: var(--fill-color);\n",
              "    }\n",
              "    80% {\n",
              "      border-color: transparent;\n",
              "      border-right-color: var(--fill-color);\n",
              "      border-bottom-color: var(--fill-color);\n",
              "    }\n",
              "    90% {\n",
              "      border-color: transparent;\n",
              "      border-bottom-color: var(--fill-color);\n",
              "    }\n",
              "  }\n",
              "</style>\n",
              "\n",
              "  <script>\n",
              "    async function quickchart(key) {\n",
              "      const quickchartButtonEl =\n",
              "        document.querySelector('#' + key + ' button');\n",
              "      quickchartButtonEl.disabled = true;  // To prevent multiple clicks.\n",
              "      quickchartButtonEl.classList.add('colab-df-spinner');\n",
              "      try {\n",
              "        const charts = await google.colab.kernel.invokeFunction(\n",
              "            'suggestCharts', [key], {});\n",
              "      } catch (error) {\n",
              "        console.error('Error during call to suggestCharts:', error);\n",
              "      }\n",
              "      quickchartButtonEl.classList.remove('colab-df-spinner');\n",
              "      quickchartButtonEl.classList.add('colab-df-quickchart-complete');\n",
              "    }\n",
              "    (() => {\n",
              "      let quickchartButtonEl =\n",
              "        document.querySelector('#df-7f03c0f4-8153-431a-806f-269f1812f54d button');\n",
              "      quickchartButtonEl.style.display =\n",
              "        google.colab.kernel.accessAllowed ? 'block' : 'none';\n",
              "    })();\n",
              "  </script>\n",
              "</div>\n",
              "\n",
              "    </div>\n",
              "  </div>\n"
            ],
            "application/vnd.google.colaboratory.intrinsic+json": {
              "type": "dataframe",
              "variable_name": "train",
              "summary": "{\n  \"name\": \"train\",\n  \"rows\": 30675,\n  \"fields\": [\n    {\n      \"column\": \"No\",\n      \"properties\": {\n        \"dtype\": \"number\",\n        \"std\": 8855,\n        \"min\": 2,\n        \"max\": 30676,\n        \"num_unique_values\": 30675,\n        \"samples\": [\n          21497,\n          19310,\n          12056\n        ],\n        \"semantic_type\": \"\",\n        \"description\": \"\"\n      }\n    },\n    {\n      \"column\": \"DEWP\",\n      \"properties\": {\n        \"dtype\": \"number\",\n        \"std\": 0.994063602745333,\n        \"min\": -2.135152624594259,\n        \"max\": 1.8140548608485263,\n        \"num_unique_values\": 58,\n        \"samples\": [\n          -1.5808778897952718,\n          -1.234456180545905,\n          0.4283680238510577\n        ],\n        \"semantic_type\": \"\",\n        \"description\": \"\"\n      }\n    },\n    {\n      \"column\": \"TEMP\",\n      \"properties\": {\n        \"dtype\": \"number\",\n        \"std\": 1.0151542228786947,\n        \"min\": -2.57807020448326,\n        \"max\": 2.340577973195197,\n        \"num_unique_values\": 61,\n        \"samples\": [\n          -2.00422791708744,\n          -1.6763180385755432,\n          1.5208032769154538\n        ],\n        \"semantic_type\": \"\",\n        \"description\": \"\"\n      }\n    },\n    {\n      \"column\": \"PRES\",\n      \"properties\": {\n        \"dtype\": \"number\",\n        \"std\": 1.0090045354871549,\n        \"min\": -2.3808211400906933,\n        \"max\": 2.877938666983153,\n        \"num_unique_values\": 59,\n        \"samples\": [\n          0.3459432043179679,\n          -0.2383634409124595,\n          -1.2122078496298383\n        ],\n        \"semantic_type\": \"\",\n        \"description\": \"\"\n      }\n    },\n    {\n      \"column\": \"Iws\",\n      \"properties\": {\n        \"dtype\": \"number\",\n        \"std\": 1.018350383551568,\n        \"min\": -0.468688451918825,\n        \"max\": 11.23195642426876,\n        \"num_unique_values\": 2454,\n        \"samples\": [\n          0.091798732357921,\n          1.587097756268555,\n          3.9218278182076514\n        ],\n        \"semantic_type\": \"\",\n        \"description\": \"\"\n      }\n    },\n    {\n      \"column\": \"Is\",\n      \"properties\": {\n        \"dtype\": \"number\",\n        \"std\": 1.08729518378608,\n        \"min\": -0.0693529927507349,\n        \"max\": 35.439859454813806,\n        \"num_unique_values\": 28,\n        \"samples\": [\n          11.767051156437446,\n          35.439859454813806,\n          10.451895139860982\n        ],\n        \"semantic_type\": \"\",\n        \"description\": \"\"\n      }\n    },\n    {\n      \"column\": \"Ir\",\n      \"properties\": {\n        \"dtype\": \"number\",\n        \"std\": 1.0638278959623164,\n        \"min\": -0.1376670916056331,\n        \"max\": 25.28874527211593,\n        \"num_unique_values\": 37,\n        \"samples\": [\n          11.869249857929551,\n          9.044092928627157,\n          2.6874898376967638\n        ],\n        \"semantic_type\": \"\",\n        \"description\": \"\"\n      }\n    },\n    {\n      \"column\": \"datetime\",\n      \"properties\": {\n        \"dtype\": \"object\",\n        \"num_unique_values\": 30675,\n        \"samples\": [\n          \"2012-06-14 16:00:00\",\n          \"2012-03-15 13:00:00\",\n          \"2011-05-18 07:00:00\"\n        ],\n        \"semantic_type\": \"\",\n        \"description\": \"\"\n      }\n    },\n    {\n      \"column\": \"cbwd_NW\",\n      \"properties\": {\n        \"dtype\": \"number\",\n        \"std\": 1.0059843045534167,\n        \"min\": -0.6905421199983467,\n        \"max\": 1.4481375879032463,\n        \"num_unique_values\": 2,\n        \"samples\": [\n          -0.6905421199983467,\n          1.4481375879032463\n        ],\n        \"semantic_type\": \"\",\n        \"description\": \"\"\n      }\n    },\n    {\n      \"column\": \"cbwd_SE\",\n      \"properties\": {\n        \"dtype\": \"number\",\n        \"std\": 1.0018542784457323,\n        \"min\": -0.7320191022613816,\n        \"max\": 1.3660845692561323,\n        \"num_unique_values\": 2,\n        \"samples\": [\n          1.3660845692561323,\n          -0.7320191022613816\n        ],\n        \"semantic_type\": \"\",\n        \"description\": \"\"\n      }\n    },\n    {\n      \"column\": \"cbwd_cv\",\n      \"properties\": {\n        \"dtype\": \"number\",\n        \"std\": 0.9821340449845638,\n        \"min\": -0.5220964661088392,\n        \"max\": 1.9153548528166715,\n        \"num_unique_values\": 2,\n        \"samples\": [\n          1.9153548528166715,\n          -0.5220964661088392\n        ],\n        \"semantic_type\": \"\",\n        \"description\": \"\"\n      }\n    },\n    {\n      \"column\": \"pm2.5\",\n      \"properties\": {\n        \"dtype\": \"number\",\n        \"std\": 93.14443341034276,\n        \"min\": 0.0,\n        \"max\": 994.0,\n        \"num_unique_values\": 563,\n        \"samples\": [\n          229.0,\n          514.0\n        ],\n        \"semantic_type\": \"\",\n        \"description\": \"\"\n      }\n    }\n  ]\n}"
            }
          },
          "metadata": {},
          "execution_count": 4
        }
      ]
    },
    {
      "cell_type": "code",
      "source": [
        "train.columns"
      ],
      "metadata": {
        "colab": {
          "base_uri": "https://localhost:8080/"
        },
        "id": "xbak7PWueaew",
        "outputId": "97a9c306-1ed2-425a-c26a-95f09d611372"
      },
      "execution_count": 5,
      "outputs": [
        {
          "output_type": "execute_result",
          "data": {
            "text/plain": [
              "Index(['No', 'DEWP', 'TEMP', 'PRES', 'Iws', 'Is', 'Ir', 'datetime', 'cbwd_NW',\n",
              "       'cbwd_SE', 'cbwd_cv', 'pm2.5'],\n",
              "      dtype='object')"
            ]
          },
          "metadata": {},
          "execution_count": 5
        }
      ]
    },
    {
      "cell_type": "code",
      "source": [
        "# Convert 'datetime' to datetime and set as index\n",
        "train['datetime'] = pd.to_datetime(train['datetime'])\n",
        "train.set_index('datetime', inplace=True)\n",
        "test['datetime'] = pd.to_datetime(test['datetime'])\n",
        "test.set_index('datetime', inplace=True)"
      ],
      "metadata": {
        "id": "Fh1jMuyQOW4K"
      },
      "execution_count": 6,
      "outputs": []
    },
    {
      "cell_type": "code",
      "source": [
        "# Extract time features\n",
        "for df in [train, test]:\n",
        "    df['hour'] = df.index.hour\n",
        "    df['day'] = df.index.day\n",
        "    df['month'] = df.index.month\n",
        "    df['year'] = df.index.year\n",
        "    df['day_of_week'] = df.index.dayofweek\n",
        "    df['is_weekend'] = (df.index.dayofweek >= 5).astype(int)"
      ],
      "metadata": {
        "id": "0w6rHohE_Wrc"
      },
      "execution_count": 7,
      "outputs": []
    },
    {
      "cell_type": "code",
      "source": [
        "values = train.values\n",
        "# specify columns to plot\n",
        "groups = [0, 1, 2, 3, 5, 6, 7]\n",
        "i = 1\n",
        "# plot each column\n",
        "plt.figure()\n",
        "for group in groups:\n",
        "\tplt.subplot(len(groups), 1, i)\n",
        "\tplt.plot(values[:, group])\n",
        "\tplt.title(train.columns[group], y=0.5, loc='right')\n",
        "\ti += 1\n",
        "plt.show()"
      ],
      "metadata": {
        "colab": {
          "base_uri": "https://localhost:8080/",
          "height": 430
        },
        "id": "rOZ7zlBqQqS5",
        "outputId": "63a2b2ad-0ce0-4363-dd10-252534d4be65"
      },
      "execution_count": 8,
      "outputs": [
        {
          "output_type": "display_data",
          "data": {
            "text/plain": [
              "<Figure size 640x480 with 7 Axes>"
            ],
            "image/png": "[encoded data removed]"
          },
          "metadata": {}
        }
      ]
    },
    {
      "cell_type": "code",
      "source": [
        "# Ensure 'datetime' column is in datetime format\n",
        "# train['datetime'] = pd.to_datetime(train['datetime'])\n",
        "\n",
        "# test['datetime'] = pd.to_datetime(test['datetime'])\n",
        "\n",
        "# Set the 'datetime' column as the index for better time-series handling\n",
        "# train.set_index('datetime', inplace=True)\n",
        "# val.set_index('datetime', inplace=True)\n",
        "# test.set_index('datetime', inplace=True)"
      ],
      "metadata": {
        "id": "f3mmIT7OeahE"
      },
      "execution_count": null,
      "outputs": []
    },
    {
      "cell_type": "markdown",
      "source": [
        "##**Handle missing values**\n",
        "Check the dataset for missing values and decide how to handle them.\n",
        "In this example, missing values are filled with the mean. You can experiment with other strategies."
      ],
      "metadata": {
        "id": "i4Hm7PvUfC9q"
      }
    },
    {
      "cell_type": "code",
      "source": [
        "# Handle missing values using training data's mean\n",
        "train_mean = train.mean()\n",
        "train.fillna(train_mean, inplace=True)\n",
        "test.fillna(train_mean, inplace=True)"
      ],
      "metadata": {
        "id": "Y-ZzXsj4eajh"
      },
      "execution_count": 9,
      "outputs": []
    },
    {
      "cell_type": "markdown",
      "source": [
        "##**Separate features and target**\n",
        "Feel free to trop any non-essential columns like that you think might not contribute to modeling."
      ],
      "metadata": {
        "id": "ZnHTKIvZfQk0"
      }
    },
    {
      "cell_type": "code",
      "source": [
        "# Create a DataFrame for supervised conversion that retains 'pm2.5'\n",
        "data_for_supervised = train.drop('No', axis=1)\n",
        "\n",
        "# Prepare separate X and y for reference (X will be used for feature scaling later)\n",
        "X = data_for_supervised.drop('pm2.5', axis=1)\n",
        "y = data_for_supervised['pm2.5']\n",
        "# For test, drop 'No'\n",
        "X_test = test.drop(['No'], axis=1)"
      ],
      "metadata": {
        "id": "BnYoYA3Dealv"
      },
      "execution_count": 36,
      "outputs": []
    },
    {
      "cell_type": "code",
      "source": [
        "print(\"X shape:\", X.shape)\n",
        "print(\"n_features (from X):\", X.shape[1])\n"
      ],
      "metadata": {
        "colab": {
          "base_uri": "https://localhost:8080/"
        },
        "id": "A0_lPqV4oWbW",
        "outputId": "4fdbd1c5-7df4-496b-c2ee-7655d49be58e"
      },
      "execution_count": 34,
      "outputs": [
        {
          "output_type": "stream",
          "name": "stdout",
          "text": [
            "X shape: (30675, 15)\n",
            "n_features (from X): 15\n"
          ]
        }
      ]
    },
    {
      "cell_type": "markdown",
      "source": [
        "\n",
        "## **Convert Series to Supervised Learning Format**\n"
      ],
      "metadata": {
        "id": "idEKDT74ciq9"
      }
    },
    {
      "cell_type": "code",
      "source": [
        "def series_to_supervised(data, n_in=1, n_out=1, dropnan=True):\n",
        "    \"\"\"\n",
        "    Frame a time series as a supervised learning dataset.\n",
        "    \"\"\"\n",
        "    n_vars = data.shape[1]\n",
        "    df = data.copy()\n",
        "    cols, names = list(), list()\n",
        "    # Input sequence (t-n, ... t-1)\n",
        "    for i in range(n_in, 0, -1):\n",
        "        cols.append(df.shift(i))\n",
        "        names += [f'{col}(t-{i})' for col in df.columns]\n",
        "    # Forecast sequence (t, t+1, ... t+n_out-1)\n",
        "    for i in range(0, n_out):\n",
        "        cols.append(df.shift(-i))\n",
        "        if i == 0:\n",
        "            names += [f'{col}(t)' for col in df.columns]\n",
        "        else:\n",
        "            names += [f'{col}(t+{i})' for col in df.columns]\n",
        "    agg = pd.concat(cols, axis=1)\n",
        "    agg.columns = names\n",
        "    if dropnan:\n",
        "        agg.dropna(inplace=True)\n",
        "    return agg"
      ],
      "metadata": {
        "id": "S4CbgRrTcvmC"
      },
      "execution_count": 37,
      "outputs": []
    },
    {
      "cell_type": "code",
      "source": [
        "# We choose a window of 3 hours and predict one step ahead.\n",
        "n_hours = 3\n",
        "n_out   = 1"
      ],
      "metadata": {
        "id": "FOR8tKlAc7JC"
      },
      "execution_count": 19,
      "outputs": []
    },
    {
      "cell_type": "code",
      "source": [
        "# Create supervised learning dataset using all features (including target)\n",
        "supervised = series_to_supervised(data_for_supervised, n_in=n_hours, n_out=n_out)"
      ],
      "metadata": {
        "id": "wOY5yiUtc94Q"
      },
      "execution_count": 20,
      "outputs": []
    },
    {
      "cell_type": "code",
      "source": [
        "# The target will be the 'pm2.5(t)' column.\n",
        "n_features = X.shape[1]\n",
        "n_obs = n_hours * n_features"
      ],
      "metadata": {
        "id": "HoF23HKBe8c6"
      },
      "execution_count": 56,
      "outputs": []
    },
    {
      "cell_type": "markdown",
      "source": [
        "## **Split Supervised Data into Training and Validation Sets**"
      ],
      "metadata": {
        "id": "5Of5azntkI2D"
      }
    },
    {
      "cell_type": "code",
      "source": [
        "# Convert supervised DataFrame to NumPy array\n",
        "values = supervised.values\n",
        "# Split the supervised data into training and validation sets (70/30 split)\n",
        "n_train = int(len(values) * 0.7)\n",
        "train_values = values[:n_train, :]\n",
        "val_values   = values[n_train:, :]"
      ],
      "metadata": {
        "id": "aQsaw0EcfHVr"
      },
      "execution_count": 40,
      "outputs": []
    },
    {
      "cell_type": "code",
      "source": [
        "# Target extraction: Get the 'pm2.5(t)' column from the last block.\n",
        "target_col_index = list(data_for_supervised.columns).index('pm2.5')\n",
        "train_X = train_values[:, :n_obs]\n",
        "train_y = train_values[:, n_obs + target_col_index]\n",
        "val_X   = val_values[:, :n_obs]\n",
        "val_y   = val_values[:, n_obs + target_col_index]"
      ],
      "metadata": {
        "id": "D4Fc8Ygclm7b"
      },
      "execution_count": 57,
      "outputs": []
    },
    {
      "cell_type": "code",
      "source": [
        "# Reshape inputs to 3D: [samples, timesteps, features]\n",
        "train_X = train_X.reshape((train_X.shape[0], n_hours, n_features))\n",
        "val_X   = val_X.reshape((val_X.shape[0], n_hours, n_features))"
      ],
      "metadata": {
        "id": "Aahm7uM0ly3Q"
      },
      "execution_count": 58,
      "outputs": []
    },
    {
      "cell_type": "markdown",
      "source": [
        "## **Scaling**"
      ],
      "metadata": {
        "id": "OPc1bToEfy7H"
      }
    },
    {
      "cell_type": "code",
      "source": [
        "scaler_X = MinMaxScaler(feature_range=(0, 1))\n",
        "# Flatten 3D arrays to 2D for scaling, then reshape back\n",
        "train_X_flat = train_X.reshape((train_X.shape[0], n_obs))\n",
        "val_X_flat   = val_X.reshape((val_X.shape[0], n_obs))\n",
        "scaler_X = scaler_X.fit(train_X_flat)\n",
        "train_X_scaled = scaler_X.transform(train_X_flat).reshape(train_X.shape)\n",
        "val_X_scaled   = scaler_X.transform(val_X_flat).reshape(val_X.shape)\n",
        "\n",
        "scaler_y = MinMaxScaler(feature_range=(0, 1))\n",
        "train_y = train_y.reshape(-1, 1)\n",
        "val_y = val_y.reshape(-1, 1)\n",
        "scaler_y = scaler_y.fit(train_y)\n",
        "train_y_scaled = scaler_y.transform(train_y)\n",
        "val_y_scaled   = scaler_y.transform(val_y)"
      ],
      "metadata": {
        "id": "1Es1yWuafauU"
      },
      "execution_count": 59,
      "outputs": []
    },
    {
      "cell_type": "markdown",
      "source": [
        "## **Build the LSTM Model (Simple Architecture)**"
      ],
      "metadata": {
        "id": "n77JSxBjf84q"
      }
    },
    {
      "cell_type": "code",
      "source": [
        "model = Sequential()\n",
        "model.add(LSTM(50, input_shape=(train_X_scaled.shape[1], train_X_scaled.shape[2])))\n",
        "model.add(Dense(1))\n",
        "model.compile(loss='mae', optimizer='adam')\n",
        "model.summary()"
      ],
      "metadata": {
        "colab": {
          "base_uri": "https://localhost:8080/",
          "height": 259
        },
        "id": "FJcFhKLPfar4",
        "outputId": "56d3a450-21ee-435d-8508-ffb8f8c54661"
      },
      "execution_count": 60,
      "outputs": [
        {
          "output_type": "stream",
          "name": "stderr",
          "text": [
            "/usr/local/lib/python3.11/dist-packages/keras/src/layers/rnn/rnn.py:200: UserWarning: Do not pass an `input_shape`/`input_dim` argument to a layer. When using Sequential models, prefer using an `Input(shape)` object as the first layer in the model instead.\n",
            "  super().__init__(**kwargs)\n"
          ]
        },
        {
          "output_type": "display_data",
          "data": {
            "text/plain": [
              "\u001b[1mModel: \"sequential_2\"\u001b[0m\n"
            ],
            "text/html": [
              "<pre style=\"white-space:pre;overflow-x:auto;line-height:normal;font-family:Menlo,'DejaVu Sans Mono',consolas,'Courier New',monospace\"><span style=\"font-weight: bold\">Model: \"sequential_2\"</span>\n",
              "</pre>\n"
            ]
          },
          "metadata": {}
        },
        {
          "output_type": "display_data",
          "data": {
            "text/plain": [
              "┏━━━━━━━━━━━━━━━━━━━━━━━━━━━━━━━━━━━━━━┳━━━━━━━━━━━━━━━━━━━━━━━━━━━━━┳━━━━━━━━━━━━━━━━━┓\n",
              "┃\u001b[1m \u001b[0m\u001b[1mLayer (type)                        \u001b[0m\u001b[1m \u001b[0m┃\u001b[1m \u001b[0m\u001b[1mOutput Shape               \u001b[0m\u001b[1m \u001b[0m┃\u001b[1m \u001b[0m\u001b[1m        Param #\u001b[0m\u001b[1m \u001b[0m┃\n",
              "┡━━━━━━━━━━━━━━━━━━━━━━━━━━━━━━━━━━━━━━╇━━━━━━━━━━━━━━━━━━━━━━━━━━━━━╇━━━━━━━━━━━━━━━━━┩\n",
              "│ lstm_2 (\u001b[38;5;33mLSTM\u001b[0m)                        │ (\u001b[38;5;45mNone\u001b[0m, \u001b[38;5;34m50\u001b[0m)                  │          \u001b[38;5;34m13,200\u001b[0m │\n",
              "├──────────────────────────────────────┼─────────────────────────────┼─────────────────┤\n",
              "│ dense_2 (\u001b[38;5;33mDense\u001b[0m)                      │ (\u001b[38;5;45mNone\u001b[0m, \u001b[38;5;34m1\u001b[0m)                   │              \u001b[38;5;34m51\u001b[0m │\n",
              "└──────────────────────────────────────┴─────────────────────────────┴─────────────────┘\n"
            ],
            "text/html": [
              "<pre style=\"white-space:pre;overflow-x:auto;line-height:normal;font-family:Menlo,'DejaVu Sans Mono',consolas,'Courier New',monospace\">┏━━━━━━━━━━━━━━━━━━━━━━━━━━━━━━━━━━━━━━┳━━━━━━━━━━━━━━━━━━━━━━━━━━━━━┳━━━━━━━━━━━━━━━━━┓\n",
              "┃<span style=\"font-weight: bold\"> Layer (type)                         </span>┃<span style=\"font-weight: bold\"> Output Shape                </span>┃<span style=\"font-weight: bold\">         Param # </span>┃\n",
              "┡━━━━━━━━━━━━━━━━━━━━━━━━━━━━━━━━━━━━━━╇━━━━━━━━━━━━━━━━━━━━━━━━━━━━━╇━━━━━━━━━━━━━━━━━┩\n",
              "│ lstm_2 (<span style=\"color: #0087ff; text-decoration-color: #0087ff\">LSTM</span>)                        │ (<span style=\"color: #00d7ff; text-decoration-color: #00d7ff\">None</span>, <span style=\"color: #00af00; text-decoration-color: #00af00\">50</span>)                  │          <span style=\"color: #00af00; text-decoration-color: #00af00\">13,200</span> │\n",
              "├──────────────────────────────────────┼─────────────────────────────┼─────────────────┤\n",
              "│ dense_2 (<span style=\"color: #0087ff; text-decoration-color: #0087ff\">Dense</span>)                      │ (<span style=\"color: #00d7ff; text-decoration-color: #00d7ff\">None</span>, <span style=\"color: #00af00; text-decoration-color: #00af00\">1</span>)                   │              <span style=\"color: #00af00; text-decoration-color: #00af00\">51</span> │\n",
              "└──────────────────────────────────────┴─────────────────────────────┴─────────────────┘\n",
              "</pre>\n"
            ]
          },
          "metadata": {}
        },
        {
          "output_type": "display_data",
          "data": {
            "text/plain": [
              "\u001b[1m Total params: \u001b[0m\u001b[38;5;34m13,251\u001b[0m (51.76 KB)\n"
            ],
            "text/html": [
              "<pre style=\"white-space:pre;overflow-x:auto;line-height:normal;font-family:Menlo,'DejaVu Sans Mono',consolas,'Courier New',monospace\"><span style=\"font-weight: bold\"> Total params: </span><span style=\"color: #00af00; text-decoration-color: #00af00\">13,251</span> (51.76 KB)\n",
              "</pre>\n"
            ]
          },
          "metadata": {}
        },
        {
          "output_type": "display_data",
          "data": {
            "text/plain": [
              "\u001b[1m Trainable params: \u001b[0m\u001b[38;5;34m13,251\u001b[0m (51.76 KB)\n"
            ],
            "text/html": [
              "<pre style=\"white-space:pre;overflow-x:auto;line-height:normal;font-family:Menlo,'DejaVu Sans Mono',consolas,'Courier New',monospace\"><span style=\"font-weight: bold\"> Trainable params: </span><span style=\"color: #00af00; text-decoration-color: #00af00\">13,251</span> (51.76 KB)\n",
              "</pre>\n"
            ]
          },
          "metadata": {}
        },
        {
          "output_type": "display_data",
          "data": {
            "text/plain": [
              "\u001b[1m Non-trainable params: \u001b[0m\u001b[38;5;34m0\u001b[0m (0.00 B)\n"
            ],
            "text/html": [
              "<pre style=\"white-space:pre;overflow-x:auto;line-height:normal;font-family:Menlo,'DejaVu Sans Mono',consolas,'Courier New',monospace\"><span style=\"font-weight: bold\"> Non-trainable params: </span><span style=\"color: #00af00; text-decoration-color: #00af00\">0</span> (0.00 B)\n",
              "</pre>\n"
            ]
          },
          "metadata": {}
        }
      ]
    },
    {
      "cell_type": "code",
      "source": [
        "callbacks = [\n",
        "    EarlyStopping(monitor='val_loss', patience=20, restore_best_weights=True),\n",
        "    ReduceLROnPlateau(monitor='val_loss', factor=0.5, patience=5, min_lr=1e-6)\n",
        "]\n",
        "\n",
        "history = model.fit(train_X_scaled, train_y_scaled,\n",
        "                    epochs=50,\n",
        "                    batch_size=72,\n",
        "                    validation_data=(val_X_scaled, val_y_scaled),\n",
        "                    verbose=2,\n",
        "                    shuffle=False)"
      ],
      "metadata": {
        "colab": {
          "base_uri": "https://localhost:8080/"
        },
        "id": "2QVzpXfafaYJ",
        "outputId": "4e42a45e-52ed-4dc3-c2f9-32d5f1952aad"
      },
      "execution_count": 61,
      "outputs": [
        {
          "output_type": "stream",
          "name": "stdout",
          "text": [
            "Epoch 1/50\n",
            "299/299 - 3s - 11ms/step - loss: 0.2660 - val_loss: 0.1876\n",
            "Epoch 2/50\n",
            "299/299 - 1s - 4ms/step - loss: 0.1809 - val_loss: 0.1699\n",
            "Epoch 3/50\n",
            "299/299 - 1s - 4ms/step - loss: 0.1648 - val_loss: 0.1598\n",
            "Epoch 4/50\n",
            "299/299 - 1s - 4ms/step - loss: 0.1578 - val_loss: 0.1521\n",
            "Epoch 5/50\n",
            "299/299 - 3s - 11ms/step - loss: 0.1534 - val_loss: 0.1551\n",
            "Epoch 6/50\n",
            "299/299 - 2s - 8ms/step - loss: 0.1516 - val_loss: 0.1508\n",
            "Epoch 7/50\n",
            "299/299 - 2s - 5ms/step - loss: 0.1491 - val_loss: 0.1524\n",
            "Epoch 8/50\n",
            "299/299 - 3s - 8ms/step - loss: 0.1499 - val_loss: 0.1526\n",
            "Epoch 9/50\n",
            "299/299 - 2s - 8ms/step - loss: 0.1484 - val_loss: 0.1491\n",
            "Epoch 10/50\n",
            "299/299 - 1s - 5ms/step - loss: 0.1475 - val_loss: 0.1488\n",
            "Epoch 11/50\n",
            "299/299 - 3s - 9ms/step - loss: 0.1438 - val_loss: 0.1440\n",
            "Epoch 12/50\n",
            "299/299 - 3s - 10ms/step - loss: 0.1435 - val_loss: 0.1462\n",
            "Epoch 13/50\n",
            "299/299 - 2s - 6ms/step - loss: 0.1438 - val_loss: 0.1463\n",
            "Epoch 14/50\n",
            "299/299 - 1s - 4ms/step - loss: 0.1434 - val_loss: 0.1434\n",
            "Epoch 15/50\n",
            "299/299 - 2s - 8ms/step - loss: 0.1446 - val_loss: 0.1469\n",
            "Epoch 16/50\n",
            "299/299 - 1s - 4ms/step - loss: 0.1439 - val_loss: 0.1446\n",
            "Epoch 17/50\n",
            "299/299 - 1s - 4ms/step - loss: 0.1418 - val_loss: 0.1433\n",
            "Epoch 18/50\n",
            "299/299 - 1s - 4ms/step - loss: 0.1422 - val_loss: 0.1445\n",
            "Epoch 19/50\n",
            "299/299 - 3s - 11ms/step - loss: 0.1416 - val_loss: 0.1429\n",
            "Epoch 20/50\n",
            "299/299 - 2s - 6ms/step - loss: 0.1433 - val_loss: 0.1499\n",
            "Epoch 21/50\n",
            "299/299 - 2s - 6ms/step - loss: 0.1427 - val_loss: 0.1470\n",
            "Epoch 22/50\n",
            "299/299 - 3s - 8ms/step - loss: 0.1421 - val_loss: 0.1457\n",
            "Epoch 23/50\n",
            "299/299 - 1s - 4ms/step - loss: 0.1431 - val_loss: 0.1466\n",
            "Epoch 24/50\n",
            "299/299 - 1s - 4ms/step - loss: 0.1417 - val_loss: 0.1442\n",
            "Epoch 25/50\n",
            "299/299 - 1s - 4ms/step - loss: 0.1425 - val_loss: 0.1430\n",
            "Epoch 26/50\n",
            "299/299 - 1s - 4ms/step - loss: 0.1409 - val_loss: 0.1429\n",
            "Epoch 27/50\n",
            "299/299 - 2s - 6ms/step - loss: 0.1406 - val_loss: 0.1420\n",
            "Epoch 28/50\n",
            "299/299 - 2s - 7ms/step - loss: 0.1416 - val_loss: 0.1428\n",
            "Epoch 29/50\n",
            "299/299 - 2s - 5ms/step - loss: 0.1427 - val_loss: 0.1430\n",
            "Epoch 30/50\n",
            "299/299 - 1s - 4ms/step - loss: 0.1408 - val_loss: 0.1441\n",
            "Epoch 31/50\n",
            "299/299 - 1s - 4ms/step - loss: 0.1423 - val_loss: 0.1420\n",
            "Epoch 32/50\n",
            "299/299 - 2s - 8ms/step - loss: 0.1417 - val_loss: 0.1446\n",
            "Epoch 33/50\n",
            "299/299 - 1s - 4ms/step - loss: 0.1427 - val_loss: 0.1445\n",
            "Epoch 34/50\n",
            "299/299 - 1s - 4ms/step - loss: 0.1412 - val_loss: 0.1497\n",
            "Epoch 35/50\n",
            "299/299 - 3s - 11ms/step - loss: 0.1414 - val_loss: 0.1437\n",
            "Epoch 36/50\n",
            "299/299 - 2s - 8ms/step - loss: 0.1419 - val_loss: 0.1424\n",
            "Epoch 37/50\n",
            "299/299 - 2s - 6ms/step - loss: 0.1414 - val_loss: 0.1422\n",
            "Epoch 38/50\n",
            "299/299 - 1s - 4ms/step - loss: 0.1419 - val_loss: 0.1462\n",
            "Epoch 39/50\n",
            "299/299 - 1s - 4ms/step - loss: 0.1411 - val_loss: 0.1450\n",
            "Epoch 40/50\n",
            "299/299 - 1s - 4ms/step - loss: 0.1411 - val_loss: 0.1433\n",
            "Epoch 41/50\n",
            "299/299 - 2s - 8ms/step - loss: 0.1411 - val_loss: 0.1424\n",
            "Epoch 42/50\n",
            "299/299 - 1s - 4ms/step - loss: 0.1409 - val_loss: 0.1436\n",
            "Epoch 43/50\n",
            "299/299 - 2s - 7ms/step - loss: 0.1405 - val_loss: 0.1434\n",
            "Epoch 44/50\n",
            "299/299 - 3s - 9ms/step - loss: 0.1415 - val_loss: 0.1438\n",
            "Epoch 45/50\n",
            "299/299 - 1s - 4ms/step - loss: 0.1404 - val_loss: 0.1438\n",
            "Epoch 46/50\n",
            "299/299 - 1s - 4ms/step - loss: 0.1413 - val_loss: 0.1455\n",
            "Epoch 47/50\n",
            "299/299 - 1s - 4ms/step - loss: 0.1409 - val_loss: 0.1453\n",
            "Epoch 48/50\n",
            "299/299 - 2s - 8ms/step - loss: 0.1413 - val_loss: 0.1435\n",
            "Epoch 49/50\n",
            "299/299 - 1s - 4ms/step - loss: 0.1419 - val_loss: 0.1424\n",
            "Epoch 50/50\n",
            "299/299 - 3s - 10ms/step - loss: 0.1414 - val_loss: 0.1431\n"
          ]
        }
      ]
    },
    {
      "cell_type": "code",
      "source": [
        "# Plot training history\n",
        "plt.figure(figsize=(12,6))\n",
        "plt.plot(history.history['loss'], label='Train Loss')\n",
        "plt.plot(history.history['val_loss'], label='Validation Loss')\n",
        "plt.title('Training and Validation Loss')\n",
        "plt.xlabel('Epoch')\n",
        "plt.ylabel('MAE Loss')\n",
        "plt.legend()\n",
        "plt.show()"
      ],
      "metadata": {
        "colab": {
          "base_uri": "https://localhost:8080/",
          "height": 424
        },
        "id": "MpumHAKsfaUh",
        "outputId": "f22a7ced-e07e-46bc-fa0f-8841180853ce"
      },
      "execution_count": 62,
      "outputs": [
        {
          "output_type": "display_data",
          "data": {
            "text/plain": [
              "<Figure size 1200x600 with 1 Axes>"
            ],
            "image/png": "[encoded data removed]"
          },
          "metadata": {}
        }
      ]
    },
    {
      "cell_type": "code",
      "source": [
        "# Evaluate performance using RMSE on the validation set\n",
        "yhat = model.predict(val_X_scaled)\n",
        "inv_yhat = scaler_y.inverse_transform(yhat)\n",
        "inv_y = scaler_y.inverse_transform(val_y_scaled)\n",
        "rmse = sqrt(mean_squared_error(inv_y, inv_yhat))\n",
        "print('Validation RMSE: %.3f' % rmse)"
      ],
      "metadata": {
        "colab": {
          "base_uri": "https://localhost:8080/"
        },
        "id": "3h9Jr1SggxL4",
        "outputId": "0088e2f1-5d11-4c62-f381-7c3a72c1775e"
      },
      "execution_count": 63,
      "outputs": [
        {
          "output_type": "stream",
          "name": "stdout",
          "text": [
            "\u001b[1m288/288\u001b[0m \u001b[32m━━━━━━━━━━━━━━━━━━━━\u001b[0m\u001b[37m\u001b[0m \u001b[1m1s\u001b[0m 2ms/step\n",
            "Validation RMSE: 0.791\n"
          ]
        }
      ]
    },
    {
      "cell_type": "markdown",
      "source": [
        "##**Prepare Test Set Predictions for Submission**"
      ],
      "metadata": {
        "id": "jd3w-N8Fg6Es"
      }
    },
    {
      "cell_type": "code",
      "source": [
        "def create_supervised_test(X, window_size):\n",
        "    \"\"\"Create test sequences using a sliding window from the test DataFrame.\"\"\"\n",
        "    Xs = []\n",
        "    for i in range(window_size, len(X) + 1):\n",
        "        Xs.append(X.iloc[i - window_size:i].values)\n",
        "    return np.array(Xs)"
      ],
      "metadata": {
        "id": "sNZM4njEsOzV"
      },
      "execution_count": 65,
      "outputs": []
    },
    {
      "cell_type": "code",
      "source": [
        "# Create test sequences from X_test (which has the same features as X)\n",
        "X_test_seq = create_supervised_test(X_test, n_hours)\n",
        "print(\"X_test_seq shape:\", X_test_seq.shape)"
      ],
      "metadata": {
        "colab": {
          "base_uri": "https://localhost:8080/"
        },
        "id": "30Nl6Hi0gxIa",
        "outputId": "b0baa701-7fc3-4543-9fe1-0bbd1589879c"
      },
      "execution_count": 66,
      "outputs": [
        {
          "output_type": "stream",
          "name": "stdout",
          "text": [
            "X_test_seq shape: (13145, 3, 15)\n"
          ]
        }
      ]
    },
    {
      "cell_type": "markdown",
      "source": [
        "##**Scale test sequences**"
      ],
      "metadata": {
        "id": "fDh0WHqOsjja"
      }
    },
    {
      "cell_type": "code",
      "source": [
        "test_seq_shape = X_test_seq.shape\n",
        "# Flatten each sample to (n_hours * n_features) elements; expected: 3 * 15 = 45.\n",
        "X_test_seq_flat = X_test_seq.reshape((test_seq_shape[0], n_hours * n_features))\n",
        "# Transform using scaler_X and reshape back to 3D.\n",
        "X_test_scaled_seq = scaler_X.transform(X_test_seq_flat).reshape((test_seq_shape[0], n_hours, n_features))"
      ],
      "metadata": {
        "id": "-5tOR0cygxF8"
      },
      "execution_count": 67,
      "outputs": []
    },
    {
      "cell_type": "code",
      "source": [
        "# Predict on the test sequences\n",
        "predictions_scaled = model.predict(X_test_scaled_seq)\n",
        "predictions = scaler_y.inverse_transform(predictions_scaled)"
      ],
      "metadata": {
        "colab": {
          "base_uri": "https://localhost:8080/"
        },
        "id": "adoYEm3Hgw_k",
        "outputId": "92fb58db-d8d5-4344-bd9a-370a0714815a"
      },
      "execution_count": 68,
      "outputs": [
        {
          "output_type": "stream",
          "name": "stdout",
          "text": [
            "\u001b[1m411/411\u001b[0m \u001b[32m━━━━━━━━━━━━━━━━━━━━\u001b[0m\u001b[37m\u001b[0m \u001b[1m1s\u001b[0m 3ms/step\n"
          ]
        }
      ]
    },
    {
      "cell_type": "markdown",
      "source": [
        "##**Create and Save the Submission File**"
      ],
      "metadata": {
        "id": "F_pYHdvLswfU"
      }
    },
    {
      "cell_type": "code",
      "source": [
        "# Our sliding window produced predictions for indices starting at test.index[n_hours - 1].\n",
        "# This yields len(test) - (n_hours - 1) predictions.\n",
        "print(\"Number of predictions before padding:\", len(predictions))\n",
        "print(\"Test set length (from index):\", len(test.index))\n"
      ],
      "metadata": {
        "colab": {
          "base_uri": "https://localhost:8080/"
        },
        "id": "b8EUj0s9t3ku",
        "outputId": "7e6f111c-c58f-4dd9-f017-7877c95bda9f"
      },
      "execution_count": 69,
      "outputs": [
        {
          "output_type": "stream",
          "name": "stdout",
          "text": [
            "Number of predictions before padding: 13145\n",
            "Test set length (from index): 13147\n"
          ]
        }
      ]
    },
    {
      "cell_type": "code",
      "source": [
        "# Kaggle expects exactly 13,148 rows.\n",
        "expected_rows = 13148\n",
        "missing_count = expected_rows - len(predictions)\n",
        "if missing_count > 0:\n",
        "    # Pad at the beginning with the first predicted value.\n",
        "    pad = np.full((missing_count,), predictions[0])\n",
        "    full_predictions = np.concatenate([pad, predictions.flatten()])\n",
        "else:\n",
        "    full_predictions = predictions.flatten()\n",
        "\n",
        "print(\"Total predictions after padding:\", len(full_predictions))"
      ],
      "metadata": {
        "colab": {
          "base_uri": "https://localhost:8080/"
        },
        "id": "lWG-VhB7uChp",
        "outputId": "93e84267-8f9c-47e1-c62f-63bcb1545514"
      },
      "execution_count": 70,
      "outputs": [
        {
          "output_type": "stream",
          "name": "stdout",
          "text": [
            "Total predictions after padding: 13148\n"
          ]
        }
      ]
    },
    {
      "cell_type": "code",
      "source": [
        "# The test predictions correspond to test timestamps starting at test.index[n_hours - 1]\n",
        "submission = pd.DataFrame({\n",
        "    'row ID': pd.to_datetime(test.index[n_hours - 1:]).strftime('%Y-%m-%d %-H:%M:%S'),\n",
        "    'pm2.5': np.round(predictions.flatten()).astype(int)\n",
        "})\n",
        "\n",
        "submission = submission.sort_values('row ID')\n",
        "\n",
        "# Save submission file\n",
        "save_path = \"/content/drive/MyDrive/Kaggle_competition_ML/air_quality_forcasting/\"\n",
        "os.makedirs(save_path, exist_ok=True)\n",
        "submission.to_csv(save_path + \"subm18_fixed.csv\", index=False)\n",
        "print(\"Submission file formatted and saved!\")"
      ],
      "metadata": {
        "colab": {
          "base_uri": "https://localhost:8080/"
        },
        "id": "F_MV39Bxgw8D",
        "outputId": "35014a32-118f-479e-986d-1e3e43454596"
      },
      "execution_count": 75,
      "outputs": [
        {
          "output_type": "stream",
          "name": "stdout",
          "text": [
            "Submission file formatted and saved!\n"
          ]
        }
      ]
    },
    {
      "cell_type": "code",
      "source": [],
      "metadata": {
        "id": "in-tMiobgw4j"
      },
      "execution_count": null,
      "outputs": []
    },
    {
      "cell_type": "markdown",
      "source": [
        "# **Second starts here**"
      ],
      "metadata": {
        "id": "m-s_Wq1LfID5"
      }
    },
    {
      "cell_type": "code",
      "source": [
        "# Split into train and validation (NO SHUFFLING)\n",
        "X_train, X_val, y_train, y_val = train_test_split(X, y, test_size=0.2, shuffle=False)"
      ],
      "metadata": {
        "id": "6Pi_ZU3WOx5G"
      },
      "execution_count": 12,
      "outputs": []
    },
    {
      "cell_type": "code",
      "source": [],
      "metadata": {
        "id": "ag7N18eAcul2"
      },
      "execution_count": null,
      "outputs": []
    },
    {
      "cell_type": "code",
      "source": [
        "# Scale data using training statistics\n",
        "scaler_X = MinMaxScaler().fit(X_train)\n",
        "scaler_y = MinMaxScaler().fit(y_train.values.reshape(-1, 1))\n",
        "\n",
        "X_train_scaled = scaler_X.transform(X_train)\n",
        "X_val_scaled = scaler_X.transform(X_val)\n",
        "X_test_scaled = scaler_X.transform(X_test)\n",
        "\n",
        "y_train_scaled = scaler_y.transform(y_train.values.reshape(-1, 1))\n",
        "y_val_scaled = scaler_y.transform(y_val.values.reshape(-1, 1))\n",
        "\n",
        "# Reshape for LSTM (samples, timesteps, features)\n",
        "def reshape_data(data):\n",
        "    return data.reshape((data.shape[0], 1, data.shape[1]))\n",
        "\n",
        "X_train_reshaped = reshape_data(X_train_scaled)\n",
        "X_val_reshaped = reshape_data(X_val_scaled)\n",
        "X_test_reshaped = reshape_data(X_test_scaled)"
      ],
      "metadata": {
        "id": "hH5Gn_ZbkiYK"
      },
      "execution_count": 13,
      "outputs": []
    },
    {
      "cell_type": "code",
      "source": [
        "# Reshape data for LSTM input\n",
        "# LSTM models require data in the shape (samples, timesteps, features).\n",
        "# Here, the data is reshaped to add a \"timesteps\" dimension.\n",
        "# X_train = np.expand_dims(X_train, axis=1)"
      ],
      "metadata": {
        "id": "h-CsHMaBeaoA"
      },
      "execution_count": null,
      "outputs": []
    },
    {
      "cell_type": "markdown",
      "source": [
        "##**Build model**\n",
        "Below is a simple LSTM model. Your task is to experiment with different parameters like, numbers of layers, units, activation functions, and optimizers, etc to get the best performing model. Experiment with other optimizers (e.g., SGD) or hyperparameters to improve performance."
      ],
      "metadata": {
        "id": "H6MhXKvXfcGI"
      }
    },
    {
      "cell_type": "code",
      "source": [
        "# Build LSTM model\n",
        "model = Sequential([\n",
        "    LSTM(64, return_sequences=True, input_shape=(X_train_reshaped.shape[1], X_train_reshaped.shape[2])),\n",
        "    Dense(1)\n",
        "])\n",
        "\n",
        "model.compile(\n",
        "    optimizer='adam',\n",
        "    loss='mse',\n",
        "    metrics=['mae']\n",
        ")\n"
      ],
      "metadata": {
        "colab": {
          "base_uri": "https://localhost:8080/"
        },
        "id": "lGkBKfPMeaqq",
        "outputId": "f6ca4803-e5af-4593-8686-b30f1675f2f2"
      },
      "execution_count": 24,
      "outputs": [
        {
          "output_type": "stream",
          "name": "stderr",
          "text": [
            "/usr/local/lib/python3.11/dist-packages/keras/src/layers/rnn/rnn.py:200: UserWarning: Do not pass an `input_shape`/`input_dim` argument to a layer. When using Sequential models, prefer using an `Input(shape)` object as the first layer in the model instead.\n",
            "  super().__init__(**kwargs)\n"
          ]
        }
      ]
    },
    {
      "cell_type": "code",
      "source": [
        "# Train the model\n",
        "early_stopping = EarlyStopping(monitor='val_loss', patience=15, restore_best_weights=True)\n",
        "reduce_lr = ReduceLROnPlateau(monitor='val_loss', factor=0.5, patience=5, min_lr=1e-6)\n",
        "\n",
        "history = model.fit(\n",
        "    X_train_reshaped, y_train_scaled,\n",
        "    validation_data=(X_val_reshaped, y_val_scaled),\n",
        "    epochs=50,\n",
        "    batch_size=72,\n",
        "    # callbacks=[early_stopping, reduce_lr],\n",
        "    verbose=2,\n",
        "    shuffle=False\n",
        ")"
      ],
      "metadata": {
        "colab": {
          "base_uri": "https://localhost:8080/"
        },
        "id": "dqvBkkmAeatN",
        "outputId": "bc25eaa0-f851-4c9c-edee-7b6d4b772b6a"
      },
      "execution_count": 25,
      "outputs": [
        {
          "output_type": "stream",
          "name": "stdout",
          "text": [
            "Epoch 1/50\n",
            "341/341 - 4s - 11ms/step - loss: 0.0064 - mae: 0.0584 - val_loss: 0.0214 - val_mae: 0.1045\n",
            "Epoch 2/50\n",
            "341/341 - 1s - 4ms/step - loss: 0.0063 - mae: 0.0580 - val_loss: 0.0258 - val_mae: 0.1192\n",
            "Epoch 3/50\n",
            "341/341 - 1s - 3ms/step - loss: 0.0064 - mae: 0.0587 - val_loss: 0.0254 - val_mae: 0.1187\n",
            "Epoch 4/50\n",
            "341/341 - 1s - 4ms/step - loss: 0.0064 - mae: 0.0584 - val_loss: 0.0240 - val_mae: 0.1150\n",
            "Epoch 5/50\n",
            "341/341 - 2s - 5ms/step - loss: 0.0063 - mae: 0.0573 - val_loss: 0.0219 - val_mae: 0.1086\n",
            "Epoch 6/50\n",
            "341/341 - 3s - 8ms/step - loss: 0.0061 - mae: 0.0560 - val_loss: 0.0200 - val_mae: 0.1021\n",
            "Epoch 7/50\n",
            "341/341 - 2s - 6ms/step - loss: 0.0060 - mae: 0.0550 - val_loss: 0.0185 - val_mae: 0.0969\n",
            "Epoch 8/50\n",
            "341/341 - 1s - 4ms/step - loss: 0.0059 - mae: 0.0544 - val_loss: 0.0174 - val_mae: 0.0930\n",
            "Epoch 9/50\n",
            "341/341 - 1s - 3ms/step - loss: 0.0058 - mae: 0.0540 - val_loss: 0.0167 - val_mae: 0.0903\n",
            "Epoch 10/50\n",
            "341/341 - 1s - 4ms/step - loss: 0.0057 - mae: 0.0537 - val_loss: 0.0161 - val_mae: 0.0882\n",
            "Epoch 11/50\n",
            "341/341 - 1s - 3ms/step - loss: 0.0057 - mae: 0.0535 - val_loss: 0.0156 - val_mae: 0.0864\n",
            "Epoch 12/50\n",
            "341/341 - 1s - 4ms/step - loss: 0.0057 - mae: 0.0533 - val_loss: 0.0151 - val_mae: 0.0847\n",
            "Epoch 13/50\n",
            "341/341 - 1s - 4ms/step - loss: 0.0056 - mae: 0.0531 - val_loss: 0.0147 - val_mae: 0.0831\n",
            "Epoch 14/50\n",
            "341/341 - 2s - 5ms/step - loss: 0.0056 - mae: 0.0530 - val_loss: 0.0142 - val_mae: 0.0815\n",
            "Epoch 15/50\n",
            "341/341 - 3s - 8ms/step - loss: 0.0056 - mae: 0.0529 - val_loss: 0.0138 - val_mae: 0.0800\n",
            "Epoch 16/50\n",
            "341/341 - 1s - 4ms/step - loss: 0.0056 - mae: 0.0528 - val_loss: 0.0133 - val_mae: 0.0786\n",
            "Epoch 17/50\n",
            "341/341 - 2s - 7ms/step - loss: 0.0056 - mae: 0.0527 - val_loss: 0.0129 - val_mae: 0.0773\n",
            "Epoch 18/50\n",
            "341/341 - 1s - 4ms/step - loss: 0.0055 - mae: 0.0526 - val_loss: 0.0126 - val_mae: 0.0761\n",
            "Epoch 19/50\n",
            "341/341 - 1s - 4ms/step - loss: 0.0055 - mae: 0.0525 - val_loss: 0.0122 - val_mae: 0.0751\n",
            "Epoch 20/50\n",
            "341/341 - 1s - 3ms/step - loss: 0.0055 - mae: 0.0525 - val_loss: 0.0119 - val_mae: 0.0742\n",
            "Epoch 21/50\n",
            "341/341 - 2s - 5ms/step - loss: 0.0055 - mae: 0.0524 - val_loss: 0.0116 - val_mae: 0.0734\n",
            "Epoch 22/50\n",
            "341/341 - 2s - 6ms/step - loss: 0.0055 - mae: 0.0524 - val_loss: 0.0113 - val_mae: 0.0727\n",
            "Epoch 23/50\n",
            "341/341 - 2s - 7ms/step - loss: 0.0055 - mae: 0.0523 - val_loss: 0.0111 - val_mae: 0.0720\n",
            "Epoch 24/50\n",
            "341/341 - 2s - 7ms/step - loss: 0.0054 - mae: 0.0523 - val_loss: 0.0108 - val_mae: 0.0715\n",
            "Epoch 25/50\n",
            "341/341 - 2s - 6ms/step - loss: 0.0054 - mae: 0.0523 - val_loss: 0.0106 - val_mae: 0.0709\n",
            "Epoch 26/50\n",
            "341/341 - 1s - 4ms/step - loss: 0.0054 - mae: 0.0522 - val_loss: 0.0104 - val_mae: 0.0704\n",
            "Epoch 27/50\n",
            "341/341 - 1s - 3ms/step - loss: 0.0054 - mae: 0.0522 - val_loss: 0.0102 - val_mae: 0.0699\n",
            "Epoch 28/50\n",
            "341/341 - 1s - 4ms/step - loss: 0.0054 - mae: 0.0521 - val_loss: 0.0100 - val_mae: 0.0693\n",
            "Epoch 29/50\n",
            "341/341 - 1s - 3ms/step - loss: 0.0053 - mae: 0.0521 - val_loss: 0.0098 - val_mae: 0.0688\n",
            "Epoch 30/50\n",
            "341/341 - 1s - 4ms/step - loss: 0.0053 - mae: 0.0520 - val_loss: 0.0096 - val_mae: 0.0683\n",
            "Epoch 31/50\n",
            "341/341 - 1s - 3ms/step - loss: 0.0053 - mae: 0.0519 - val_loss: 0.0095 - val_mae: 0.0678\n",
            "Epoch 32/50\n",
            "341/341 - 1s - 4ms/step - loss: 0.0053 - mae: 0.0519 - val_loss: 0.0093 - val_mae: 0.0672\n",
            "Epoch 33/50\n",
            "341/341 - 2s - 5ms/step - loss: 0.0053 - mae: 0.0518 - val_loss: 0.0091 - val_mae: 0.0667\n",
            "Epoch 34/50\n",
            "341/341 - 2s - 5ms/step - loss: 0.0052 - mae: 0.0517 - val_loss: 0.0090 - val_mae: 0.0662\n",
            "Epoch 35/50\n",
            "341/341 - 2s - 6ms/step - loss: 0.0052 - mae: 0.0517 - val_loss: 0.0089 - val_mae: 0.0658\n",
            "Epoch 36/50\n",
            "341/341 - 1s - 4ms/step - loss: 0.0052 - mae: 0.0516 - val_loss: 0.0088 - val_mae: 0.0653\n",
            "Epoch 37/50\n",
            "341/341 - 2s - 7ms/step - loss: 0.0052 - mae: 0.0515 - val_loss: 0.0086 - val_mae: 0.0649\n",
            "Epoch 38/50\n",
            "341/341 - 1s - 4ms/step - loss: 0.0052 - mae: 0.0514 - val_loss: 0.0085 - val_mae: 0.0645\n",
            "Epoch 39/50\n",
            "341/341 - 1s - 3ms/step - loss: 0.0051 - mae: 0.0514 - val_loss: 0.0085 - val_mae: 0.0642\n",
            "Epoch 40/50\n",
            "341/341 - 1s - 4ms/step - loss: 0.0051 - mae: 0.0513 - val_loss: 0.0084 - val_mae: 0.0639\n",
            "Epoch 41/50\n",
            "341/341 - 1s - 4ms/step - loss: 0.0051 - mae: 0.0512 - val_loss: 0.0083 - val_mae: 0.0636\n",
            "Epoch 42/50\n",
            "341/341 - 2s - 5ms/step - loss: 0.0051 - mae: 0.0511 - val_loss: 0.0083 - val_mae: 0.0634\n",
            "Epoch 43/50\n",
            "341/341 - 2s - 5ms/step - loss: 0.0051 - mae: 0.0510 - val_loss: 0.0082 - val_mae: 0.0632\n",
            "Epoch 44/50\n",
            "341/341 - 2s - 6ms/step - loss: 0.0051 - mae: 0.0509 - val_loss: 0.0082 - val_mae: 0.0630\n",
            "Epoch 45/50\n",
            "341/341 - 1s - 3ms/step - loss: 0.0051 - mae: 0.0509 - val_loss: 0.0082 - val_mae: 0.0628\n",
            "Epoch 46/50\n",
            "341/341 - 1s - 4ms/step - loss: 0.0050 - mae: 0.0508 - val_loss: 0.0082 - val_mae: 0.0627\n",
            "Epoch 47/50\n",
            "341/341 - 1s - 4ms/step - loss: 0.0050 - mae: 0.0507 - val_loss: 0.0082 - val_mae: 0.0626\n",
            "Epoch 48/50\n",
            "341/341 - 1s - 3ms/step - loss: 0.0050 - mae: 0.0506 - val_loss: 0.0082 - val_mae: 0.0625\n",
            "Epoch 49/50\n",
            "341/341 - 1s - 4ms/step - loss: 0.0050 - mae: 0.0506 - val_loss: 0.0082 - val_mae: 0.0624\n",
            "Epoch 50/50\n",
            "341/341 - 1s - 3ms/step - loss: 0.0050 - mae: 0.0505 - val_loss: 0.0082 - val_mae: 0.0624\n"
          ]
        }
      ]
    },
    {
      "cell_type": "code",
      "source": [
        "# Plot training history\n",
        "plt.figure(figsize=(10, 6))\n",
        "plt.plot(history.history['loss'], label='Training Loss')\n",
        "plt.plot(history.history['val_loss'], label='Validation Loss')\n",
        "plt.title('Loss Over Epochs')\n",
        "plt.xlabel('Epoch')\n",
        "plt.ylabel('MSE Loss')\n",
        "plt.legend()\n",
        "plt.show()"
      ],
      "metadata": {
        "colab": {
          "base_uri": "https://localhost:8080/",
          "height": 493
        },
        "id": "eb6Oqd34eaxc",
        "outputId": "eb230290-ffe3-4d82-dc2a-3b23a98fc312"
      },
      "execution_count": 26,
      "outputs": [
        {
          "output_type": "display_data",
          "data": {
            "text/plain": [
              "<Figure size 1000x600 with 1 Axes>"
            ],
            "image/png": "[encoded data removed]"
          },
          "metadata": {}
        }
      ]
    },
    {
      "cell_type": "code",
      "source": [
        "# Predict on the test data\n",
        "predictions = model.predict(X_test_reshaped)\n",
        "\n",
        "# Reshape predictions to 2D before inverse transforming\n",
        "predictions = predictions.reshape(-1, 1)\n",
        "\n",
        "# Inverse transform predictions to original scale\n",
        "predictions = scaler_y.inverse_transform(predictions)\n",
        "\n",
        "# Prepare submission with proper formatting\n",
        "submission = pd.DataFrame({\n",
        "    'row ID': test.index.strftime('%Y-%m-%d %-H:%M:%S'),\n",
        "    'pm2.5': predictions.flatten()\n",
        "})\n",
        "\n",
        "# Sort by row ID to ensure chronological order\n",
        "submission = submission.sort_values('row ID')\n",
        "\n",
        "# Save submission\n",
        "save_path = \"/content/drive/MyDrive/Kaggle_competition_ML/air_quality_forcasting/\"\n",
        "submission.to_csv(save_path + \"subm17_fixed.csv\", index=False)\n",
        "print(\"Submission file formatted and saved!\")"
      ],
      "metadata": {
        "colab": {
          "base_uri": "https://localhost:8080/"
        },
        "id": "qp4xg5Cieazx",
        "outputId": "4ccf9817-b02a-4b9c-c6c1-8798df1d5d96"
      },
      "execution_count": 23,
      "outputs": [
        {
          "output_type": "stream",
          "name": "stdout",
          "text": [
            "\u001b[1m411/411\u001b[0m \u001b[32m━━━━━━━━━━━━━━━━━━━━\u001b[0m\u001b[37m\u001b[0m \u001b[1m2s\u001b[0m 3ms/step\n",
            "Submission file formatted and saved!\n"
          ]
        }
      ]
    },
    {
      "cell_type": "markdown",
      "source": [],
      "metadata": {
        "id": "0HlZ4KY3z2uj"
      }
    },
    {
      "cell_type": "code",
      "source": [],
      "metadata": {
        "id": "2nC0Km1Pea2L"
      },
      "execution_count": null,
      "outputs": []
    },
    {
      "cell_type": "code",
      "source": [],
      "metadata": {
        "id": "HuWuBETcea5G"
      },
      "execution_count": null,
      "outputs": []
    },
    {
      "cell_type": "code",
      "source": [],
      "metadata": {
        "id": "63d7K_-oea8f"
      },
      "execution_count": null,
      "outputs": []
    }
  ]
}