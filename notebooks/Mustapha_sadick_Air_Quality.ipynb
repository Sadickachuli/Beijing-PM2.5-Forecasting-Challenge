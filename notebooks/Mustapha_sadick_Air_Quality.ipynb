{
  "nbformat": 4,
  "nbformat_minor": 0,
  "metadata": {
    "colab": {
      "provenance": []
    },
    "kernelspec": {
      "name": "python3",
      "display_name": "Python 3"
    },
    "language_info": {
      "name": "python"
    }
  },
  "cells": [
    {
      "cell_type": "markdown",
      "source": [
        "#**Beijing Air Quality Forecasting Starter Notebook**"
      ],
      "metadata": {
        "id": "r8BNk--ff-QQ"
      }
    },
    {
      "cell_type": "code",
      "execution_count": 77,
      "metadata": {
        "id": "O6kXNwL7eUZP"
      },
      "outputs": [],
      "source": [
        "# Import necessary libraries\n",
        "import pandas as pd\n",
        "import os\n",
        "import numpy as np\n",
        "import matplotlib.pyplot as plt\n",
        "from sklearn.preprocessing import MinMaxScaler\n",
        "from sklearn.model_selection import train_test_split\n",
        "from tensorflow.keras.models import Sequential\n",
        "from tensorflow.keras.layers import LSTM, Dense, Dropout, BatchNormalization\n",
        "from tensorflow.keras.callbacks import EarlyStopping, ReduceLROnPlateau\n",
        "from tensorflow.keras.regularizers import l2\n",
        "from tensorflow.keras.optimizers import Adam\n",
        "import tensorflow as tf"
      ]
    },
    {
      "cell_type": "code",
      "source": [
        "# Mount Google Drive to access datasets\n",
        "from google.colab import drive\n",
        "drive.mount('/content/drive')"
      ],
      "metadata": {
        "colab": {
          "base_uri": "https://localhost:8080/"
        },
        "id": "jwr3QGd2eaPN",
        "outputId": "c10d7cd4-8daf-4ced-a22a-97d9cfde4eb8"
      },
      "execution_count": null,
      "outputs": [
        {
          "output_type": "stream",
          "name": "stdout",
          "text": [
            "Drive already mounted at /content/drive; to attempt to forcibly remount, call drive.mount(\"/content/drive\", force_remount=True).\n"
          ]
        }
      ]
    },
    {
      "cell_type": "markdown",
      "source": [
        "##**Data Preprocessing**"
      ],
      "metadata": {
        "id": "WlXKYIAJUS6j"
      }
    },
    {
      "cell_type": "code",
      "source": [],
      "metadata": {
        "id": "vnKh2ZOpUgyZ"
      },
      "execution_count": null,
      "outputs": []
    },
    {
      "cell_type": "code",
      "source": [
        "# Load the datasets\n",
        "# Ensure train.csv and test.csv are saved in your Google Drive in the same folder.\n",
        "# Replace the file paths below with the actual paths to your dataset.\n",
        "train = pd.read_csv('/content/drive/MyDrive/Kaggle_competition_ML/air_quality_forcasting/train.csv')\n",
        "test = pd.read_csv('/content/drive/MyDrive/Kaggle_competition_ML/air_quality_forcasting/test.csv')"
      ],
      "metadata": {
        "id": "bG3WefcqeaaH"
      },
      "execution_count": 50,
      "outputs": []
    },
    {
      "cell_type": "markdown",
      "source": [
        "## **Explore the training data**\n",
        "\n",
        "In this sections explore your dataset with appropiate statistics and visualisations to understand your better. Ensure that you explain output of every code cell and what it entails."
      ],
      "metadata": {
        "id": "rL8K-0jhepOk"
      }
    },
    {
      "cell_type": "code",
      "source": [
        "# Inspecting the first few rows of the dataset to understand its structure.\n",
        "print(\"Training Data Overview:\")\n",
        "train.head()"
      ],
      "metadata": {
        "colab": {
          "base_uri": "https://localhost:8080/",
          "height": 224
        },
        "id": "oxRO7w-Oeaca",
        "outputId": "5e91e0d1-86ee-4309-9793-edbfe33a7e38"
      },
      "execution_count": 51,
      "outputs": [
        {
          "output_type": "stream",
          "name": "stdout",
          "text": [
            "Training Data Overview:\n"
          ]
        },
        {
          "output_type": "execute_result",
          "data": {
            "text/plain": [
              "   No      DEWP      TEMP      PRES       Iws        Is        Ir  \\\n",
              "0   1 -1.580878 -1.922250  0.443328 -0.441894 -0.069353 -0.137667   \n",
              "1   2 -1.580878 -2.004228  0.345943 -0.379306 -0.069353 -0.137667   \n",
              "2   3 -1.580878 -1.922250  0.248559 -0.343514 -0.069353 -0.137667   \n",
              "3   4 -1.580878 -2.168183  0.248559 -0.280926 -0.069353 -0.137667   \n",
              "4   5 -1.511594 -2.004228  0.151174 -0.218339 -0.069353 -0.137667   \n",
              "\n",
              "              datetime   cbwd_NW   cbwd_SE   cbwd_cv  pm2.5  \n",
              "0  2010-01-01 00:00:00  1.448138 -0.732019 -0.522096    NaN  \n",
              "1  2010-01-01 01:00:00  1.448138 -0.732019 -0.522096    NaN  \n",
              "2  2010-01-01 02:00:00  1.448138 -0.732019 -0.522096    NaN  \n",
              "3  2010-01-01 03:00:00  1.448138 -0.732019 -0.522096    NaN  \n",
              "4  2010-01-01 04:00:00  1.448138 -0.732019 -0.522096    NaN  "
            ],
            "text/html": [
              "\n",
              "  <div id=\"df-290baa62-eaf9-43d5-a36e-780eb26fa66c\" class=\"colab-df-container\">\n",
              "    <div>\n",
              "<style scoped>\n",
              "    .dataframe tbody tr th:only-of-type {\n",
              "        vertical-align: middle;\n",
              "    }\n",
              "\n",
              "    .dataframe tbody tr th {\n",
              "        vertical-align: top;\n",
              "    }\n",
              "\n",
              "    .dataframe thead th {\n",
              "        text-align: right;\n",
              "    }\n",
              "</style>\n",
              "<table border=\"1\" class=\"dataframe\">\n",
              "  <thead>\n",
              "    <tr style=\"text-align: right;\">\n",
              "      <th></th>\n",
              "      <th>No</th>\n",
              "      <th>DEWP</th>\n",
              "      <th>TEMP</th>\n",
              "      <th>PRES</th>\n",
              "      <th>Iws</th>\n",
              "      <th>Is</th>\n",
              "      <th>Ir</th>\n",
              "      <th>datetime</th>\n",
              "      <th>cbwd_NW</th>\n",
              "      <th>cbwd_SE</th>\n",
              "      <th>cbwd_cv</th>\n",
              "      <th>pm2.5</th>\n",
              "    </tr>\n",
              "  </thead>\n",
              "  <tbody>\n",
              "    <tr>\n",
              "      <th>0</th>\n",
              "      <td>1</td>\n",
              "      <td>-1.580878</td>\n",
              "      <td>-1.922250</td>\n",
              "      <td>0.443328</td>\n",
              "      <td>-0.441894</td>\n",
              "      <td>-0.069353</td>\n",
              "      <td>-0.137667</td>\n",
              "      <td>2010-01-01 00:00:00</td>\n",
              "      <td>1.448138</td>\n",
              "      <td>-0.732019</td>\n",
              "      <td>-0.522096</td>\n",
              "      <td>NaN</td>\n",
              "    </tr>\n",
              "    <tr>\n",
              "      <th>1</th>\n",
              "      <td>2</td>\n",
              "      <td>-1.580878</td>\n",
              "      <td>-2.004228</td>\n",
              "      <td>0.345943</td>\n",
              "      <td>-0.379306</td>\n",
              "      <td>-0.069353</td>\n",
              "      <td>-0.137667</td>\n",
              "      <td>2010-01-01 01:00:00</td>\n",
              "      <td>1.448138</td>\n",
              "      <td>-0.732019</td>\n",
              "      <td>-0.522096</td>\n",
              "      <td>NaN</td>\n",
              "    </tr>\n",
              "    <tr>\n",
              "      <th>2</th>\n",
              "      <td>3</td>\n",
              "      <td>-1.580878</td>\n",
              "      <td>-1.922250</td>\n",
              "      <td>0.248559</td>\n",
              "      <td>-0.343514</td>\n",
              "      <td>-0.069353</td>\n",
              "      <td>-0.137667</td>\n",
              "      <td>2010-01-01 02:00:00</td>\n",
              "      <td>1.448138</td>\n",
              "      <td>-0.732019</td>\n",
              "      <td>-0.522096</td>\n",
              "      <td>NaN</td>\n",
              "    </tr>\n",
              "    <tr>\n",
              "      <th>3</th>\n",
              "      <td>4</td>\n",
              "      <td>-1.580878</td>\n",
              "      <td>-2.168183</td>\n",
              "      <td>0.248559</td>\n",
              "      <td>-0.280926</td>\n",
              "      <td>-0.069353</td>\n",
              "      <td>-0.137667</td>\n",
              "      <td>2010-01-01 03:00:00</td>\n",
              "      <td>1.448138</td>\n",
              "      <td>-0.732019</td>\n",
              "      <td>-0.522096</td>\n",
              "      <td>NaN</td>\n",
              "    </tr>\n",
              "    <tr>\n",
              "      <th>4</th>\n",
              "      <td>5</td>\n",
              "      <td>-1.511594</td>\n",
              "      <td>-2.004228</td>\n",
              "      <td>0.151174</td>\n",
              "      <td>-0.218339</td>\n",
              "      <td>-0.069353</td>\n",
              "      <td>-0.137667</td>\n",
              "      <td>2010-01-01 04:00:00</td>\n",
              "      <td>1.448138</td>\n",
              "      <td>-0.732019</td>\n",
              "      <td>-0.522096</td>\n",
              "      <td>NaN</td>\n",
              "    </tr>\n",
              "  </tbody>\n",
              "</table>\n",
              "</div>\n",
              "    <div class=\"colab-df-buttons\">\n",
              "\n",
              "  <div class=\"colab-df-container\">\n",
              "    <button class=\"colab-df-convert\" onclick=\"convertToInteractive('df-290baa62-eaf9-43d5-a36e-780eb26fa66c')\"\n",
              "            title=\"Convert this dataframe to an interactive table.\"\n",
              "            style=\"display:none;\">\n",
              "\n",
              "  <svg xmlns=\"http://www.w3.org/2000/svg\" height=\"24px\" viewBox=\"0 -960 960 960\">\n",
              "    <path d=\"M120-120v-720h720v720H120Zm60-500h600v-160H180v160Zm220 220h160v-160H400v160Zm0 220h160v-160H400v160ZM180-400h160v-160H180v160Zm440 0h160v-160H620v160ZM180-180h160v-160H180v160Zm440 0h160v-160H620v160Z\"/>\n",
              "  </svg>\n",
              "    </button>\n",
              "\n",
              "  <style>\n",
              "    .colab-df-container {\n",
              "      display:flex;\n",
              "      gap: 12px;\n",
              "    }\n",
              "\n",
              "    .colab-df-convert {\n",
              "      background-color: #E8F0FE;\n",
              "      border: none;\n",
              "      border-radius: 50%;\n",
              "      cursor: pointer;\n",
              "      display: none;\n",
              "      fill: #1967D2;\n",
              "      height: 32px;\n",
              "      padding: 0 0 0 0;\n",
              "      width: 32px;\n",
              "    }\n",
              "\n",
              "    .colab-df-convert:hover {\n",
              "      background-color: #E2EBFA;\n",
              "      box-shadow: 0px 1px 2px rgba(60, 64, 67, 0.3), 0px 1px 3px 1px rgba(60, 64, 67, 0.15);\n",
              "      fill: #174EA6;\n",
              "    }\n",
              "\n",
              "    .colab-df-buttons div {\n",
              "      margin-bottom: 4px;\n",
              "    }\n",
              "\n",
              "    [theme=dark] .colab-df-convert {\n",
              "      background-color: #3B4455;\n",
              "      fill: #D2E3FC;\n",
              "    }\n",
              "\n",
              "    [theme=dark] .colab-df-convert:hover {\n",
              "      background-color: #434B5C;\n",
              "      box-shadow: 0px 1px 3px 1px rgba(0, 0, 0, 0.15);\n",
              "      filter: drop-shadow(0px 1px 2px rgba(0, 0, 0, 0.3));\n",
              "      fill: #FFFFFF;\n",
              "    }\n",
              "  </style>\n",
              "\n",
              "    <script>\n",
              "      const buttonEl =\n",
              "        document.querySelector('#df-290baa62-eaf9-43d5-a36e-780eb26fa66c button.colab-df-convert');\n",
              "      buttonEl.style.display =\n",
              "        google.colab.kernel.accessAllowed ? 'block' : 'none';\n",
              "\n",
              "      async function convertToInteractive(key) {\n",
              "        const element = document.querySelector('#df-290baa62-eaf9-43d5-a36e-780eb26fa66c');\n",
              "        const dataTable =\n",
              "          await google.colab.kernel.invokeFunction('convertToInteractive',\n",
              "                                                    [key], {});\n",
              "        if (!dataTable) return;\n",
              "\n",
              "        const docLinkHtml = 'Like what you see? Visit the ' +\n",
              "          '<a target=\"_blank\" href=https://colab.research.google.com/notebooks/data_table.ipynb>data table notebook</a>'\n",
              "          + ' to learn more about interactive tables.';\n",
              "        element.innerHTML = '';\n",
              "        dataTable['output_type'] = 'display_data';\n",
              "        await google.colab.output.renderOutput(dataTable, element);\n",
              "        const docLink = document.createElement('div');\n",
              "        docLink.innerHTML = docLinkHtml;\n",
              "        element.appendChild(docLink);\n",
              "      }\n",
              "    </script>\n",
              "  </div>\n",
              "\n",
              "\n",
              "<div id=\"df-c964e68f-44f4-4753-bec2-b3fd1db1b9e8\">\n",
              "  <button class=\"colab-df-quickchart\" onclick=\"quickchart('df-c964e68f-44f4-4753-bec2-b3fd1db1b9e8')\"\n",
              "            title=\"Suggest charts\"\n",
              "            style=\"display:none;\">\n",
              "\n",
              "<svg xmlns=\"http://www.w3.org/2000/svg\" height=\"24px\"viewBox=\"0 0 24 24\"\n",
              "     width=\"24px\">\n",
              "    <g>\n",
              "        <path d=\"M19 3H5c-1.1 0-2 .9-2 2v14c0 1.1.9 2 2 2h14c1.1 0 2-.9 2-2V5c0-1.1-.9-2-2-2zM9 17H7v-7h2v7zm4 0h-2V7h2v10zm4 0h-2v-4h2v4z\"/>\n",
              "    </g>\n",
              "</svg>\n",
              "  </button>\n",
              "\n",
              "<style>\n",
              "  .colab-df-quickchart {\n",
              "      --bg-color: #E8F0FE;\n",
              "      --fill-color: #1967D2;\n",
              "      --hover-bg-color: #E2EBFA;\n",
              "      --hover-fill-color: #174EA6;\n",
              "      --disabled-fill-color: #AAA;\n",
              "      --disabled-bg-color: #DDD;\n",
              "  }\n",
              "\n",
              "  [theme=dark] .colab-df-quickchart {\n",
              "      --bg-color: #3B4455;\n",
              "      --fill-color: #D2E3FC;\n",
              "      --hover-bg-color: #434B5C;\n",
              "      --hover-fill-color: #FFFFFF;\n",
              "      --disabled-bg-color: #3B4455;\n",
              "      --disabled-fill-color: #666;\n",
              "  }\n",
              "\n",
              "  .colab-df-quickchart {\n",
              "    background-color: var(--bg-color);\n",
              "    border: none;\n",
              "    border-radius: 50%;\n",
              "    cursor: pointer;\n",
              "    display: none;\n",
              "    fill: var(--fill-color);\n",
              "    height: 32px;\n",
              "    padding: 0;\n",
              "    width: 32px;\n",
              "  }\n",
              "\n",
              "  .colab-df-quickchart:hover {\n",
              "    background-color: var(--hover-bg-color);\n",
              "    box-shadow: 0 1px 2px rgba(60, 64, 67, 0.3), 0 1px 3px 1px rgba(60, 64, 67, 0.15);\n",
              "    fill: var(--button-hover-fill-color);\n",
              "  }\n",
              "\n",
              "  .colab-df-quickchart-complete:disabled,\n",
              "  .colab-df-quickchart-complete:disabled:hover {\n",
              "    background-color: var(--disabled-bg-color);\n",
              "    fill: var(--disabled-fill-color);\n",
              "    box-shadow: none;\n",
              "  }\n",
              "\n",
              "  .colab-df-spinner {\n",
              "    border: 2px solid var(--fill-color);\n",
              "    border-color: transparent;\n",
              "    border-bottom-color: var(--fill-color);\n",
              "    animation:\n",
              "      spin 1s steps(1) infinite;\n",
              "  }\n",
              "\n",
              "  @keyframes spin {\n",
              "    0% {\n",
              "      border-color: transparent;\n",
              "      border-bottom-color: var(--fill-color);\n",
              "      border-left-color: var(--fill-color);\n",
              "    }\n",
              "    20% {\n",
              "      border-color: transparent;\n",
              "      border-left-color: var(--fill-color);\n",
              "      border-top-color: var(--fill-color);\n",
              "    }\n",
              "    30% {\n",
              "      border-color: transparent;\n",
              "      border-left-color: var(--fill-color);\n",
              "      border-top-color: var(--fill-color);\n",
              "      border-right-color: var(--fill-color);\n",
              "    }\n",
              "    40% {\n",
              "      border-color: transparent;\n",
              "      border-right-color: var(--fill-color);\n",
              "      border-top-color: var(--fill-color);\n",
              "    }\n",
              "    60% {\n",
              "      border-color: transparent;\n",
              "      border-right-color: var(--fill-color);\n",
              "    }\n",
              "    80% {\n",
              "      border-color: transparent;\n",
              "      border-right-color: var(--fill-color);\n",
              "      border-bottom-color: var(--fill-color);\n",
              "    }\n",
              "    90% {\n",
              "      border-color: transparent;\n",
              "      border-bottom-color: var(--fill-color);\n",
              "    }\n",
              "  }\n",
              "</style>\n",
              "\n",
              "  <script>\n",
              "    async function quickchart(key) {\n",
              "      const quickchartButtonEl =\n",
              "        document.querySelector('#' + key + ' button');\n",
              "      quickchartButtonEl.disabled = true;  // To prevent multiple clicks.\n",
              "      quickchartButtonEl.classList.add('colab-df-spinner');\n",
              "      try {\n",
              "        const charts = await google.colab.kernel.invokeFunction(\n",
              "            'suggestCharts', [key], {});\n",
              "      } catch (error) {\n",
              "        console.error('Error during call to suggestCharts:', error);\n",
              "      }\n",
              "      quickchartButtonEl.classList.remove('colab-df-spinner');\n",
              "      quickchartButtonEl.classList.add('colab-df-quickchart-complete');\n",
              "    }\n",
              "    (() => {\n",
              "      let quickchartButtonEl =\n",
              "        document.querySelector('#df-c964e68f-44f4-4753-bec2-b3fd1db1b9e8 button');\n",
              "      quickchartButtonEl.style.display =\n",
              "        google.colab.kernel.accessAllowed ? 'block' : 'none';\n",
              "    })();\n",
              "  </script>\n",
              "</div>\n",
              "\n",
              "    </div>\n",
              "  </div>\n"
            ],
            "application/vnd.google.colaboratory.intrinsic+json": {
              "type": "dataframe",
              "variable_name": "train",
              "summary": "{\n  \"name\": \"train\",\n  \"rows\": 30676,\n  \"fields\": [\n    {\n      \"column\": \"No\",\n      \"properties\": {\n        \"dtype\": \"number\",\n        \"std\": 8855,\n        \"min\": 1,\n        \"max\": 30676,\n        \"num_unique_values\": 30676,\n        \"samples\": [\n          21374,\n          25090,\n          28569\n        ],\n        \"semantic_type\": \"\",\n        \"description\": \"\"\n      }\n    },\n    {\n      \"column\": \"DEWP\",\n      \"properties\": {\n        \"dtype\": \"number\",\n        \"std\": 0.9940868685872691,\n        \"min\": -2.135152624594259,\n        \"max\": 1.8140548608485263,\n        \"num_unique_values\": 58,\n        \"samples\": [\n          -1.5808778897952718,\n          -1.234456180545905,\n          0.4283680238510577\n        ],\n        \"semantic_type\": \"\",\n        \"description\": \"\"\n      }\n    },\n    {\n      \"column\": \"TEMP\",\n      \"properties\": {\n        \"dtype\": \"number\",\n        \"std\": 1.0151931988363345,\n        \"min\": -2.57807020448326,\n        \"max\": 2.340577973195197,\n        \"num_unique_values\": 61,\n        \"samples\": [\n          -1.922250447459466,\n          -1.6763180385755432,\n          1.5208032769154538\n        ],\n        \"semantic_type\": \"\",\n        \"description\": \"\"\n      }\n    },\n    {\n      \"column\": \"PRES\",\n      \"properties\": {\n        \"dtype\": \"number\",\n        \"std\": 1.0089910718128012,\n        \"min\": -2.3808211400906933,\n        \"max\": 2.877938666983153,\n        \"num_unique_values\": 59,\n        \"samples\": [\n          0.4433276451897058,\n          -0.1409790000407216,\n          -1.2122078496298383\n        ],\n        \"semantic_type\": \"\",\n        \"description\": \"\"\n      }\n    },\n    {\n      \"column\": \"Iws\",\n      \"properties\": {\n        \"dtype\": \"number\",\n        \"std\": 1.0183373570630927,\n        \"min\": -0.468688451918825,\n        \"max\": 11.23195642426876,\n        \"num_unique_values\": 2454,\n        \"samples\": [\n          0.091798732357921,\n          1.587097756268555,\n          3.9218278182076514\n        ],\n        \"semantic_type\": \"\",\n        \"description\": \"\"\n      }\n    },\n    {\n      \"column\": \"Is\",\n      \"properties\": {\n        \"dtype\": \"number\",\n        \"std\": 1.0872775725916504,\n        \"min\": -0.0693529927507349,\n        \"max\": 35.439859454813806,\n        \"num_unique_values\": 28,\n        \"samples\": [\n          11.767051156437446,\n          35.439859454813806,\n          10.451895139860982\n        ],\n        \"semantic_type\": \"\",\n        \"description\": \"\"\n      }\n    },\n    {\n      \"column\": \"Ir\",\n      \"properties\": {\n        \"dtype\": \"number\",\n        \"std\": 1.0638108953278456,\n        \"min\": -0.1376670916056331,\n        \"max\": 25.28874527211593,\n        \"num_unique_values\": 37,\n        \"samples\": [\n          11.869249857929551,\n          9.044092928627157,\n          2.6874898376967638\n        ],\n        \"semantic_type\": \"\",\n        \"description\": \"\"\n      }\n    },\n    {\n      \"column\": \"datetime\",\n      \"properties\": {\n        \"dtype\": \"object\",\n        \"num_unique_values\": 30676,\n        \"samples\": [\n          \"2012-06-09 13:00:00\",\n          \"2012-11-11 09:00:00\",\n          \"2013-04-05 08:00:00\"\n        ],\n        \"semantic_type\": \"\",\n        \"description\": \"\"\n      }\n    },\n    {\n      \"column\": \"cbwd_NW\",\n      \"properties\": {\n        \"dtype\": \"number\",\n        \"std\": 1.0060011316463833,\n        \"min\": -0.6905421199983467,\n        \"max\": 1.4481375879032463,\n        \"num_unique_values\": 2,\n        \"samples\": [\n          -0.6905421199983467,\n          1.4481375879032463\n        ],\n        \"semantic_type\": \"\",\n        \"description\": \"\"\n      }\n    },\n    {\n      \"column\": \"cbwd_SE\",\n      \"properties\": {\n        \"dtype\": \"number\",\n        \"std\": 1.0018468062271315,\n        \"min\": -0.7320191022613816,\n        \"max\": 1.3660845692561323,\n        \"num_unique_values\": 2,\n        \"samples\": [\n          1.3660845692561323,\n          -0.7320191022613816\n        ],\n        \"semantic_type\": \"\",\n        \"description\": \"\"\n      }\n    },\n    {\n      \"column\": \"cbwd_cv\",\n      \"properties\": {\n        \"dtype\": \"number\",\n        \"std\": 0.9821221372732125,\n        \"min\": -0.5220964661088392,\n        \"max\": 1.9153548528166715,\n        \"num_unique_values\": 2,\n        \"samples\": [\n          1.9153548528166715,\n          -0.5220964661088392\n        ],\n        \"semantic_type\": \"\",\n        \"description\": \"\"\n      }\n    },\n    {\n      \"column\": \"pm2.5\",\n      \"properties\": {\n        \"dtype\": \"number\",\n        \"std\": 93.14443341034276,\n        \"min\": 0.0,\n        \"max\": 994.0,\n        \"num_unique_values\": 563,\n        \"samples\": [\n          229.0,\n          514.0\n        ],\n        \"semantic_type\": \"\",\n        \"description\": \"\"\n      }\n    }\n  ]\n}"
            }
          },
          "metadata": {},
          "execution_count": 51
        }
      ]
    },
    {
      "cell_type": "code",
      "source": [
        "train.columns"
      ],
      "metadata": {
        "colab": {
          "base_uri": "https://localhost:8080/"
        },
        "id": "xbak7PWueaew",
        "outputId": "52aee6bb-20ac-4453-d365-68c599bd9817"
      },
      "execution_count": 62,
      "outputs": [
        {
          "output_type": "execute_result",
          "data": {
            "text/plain": [
              "Index(['No', 'DEWP', 'TEMP', 'PRES', 'Iws', 'Is', 'Ir', 'datetime', 'cbwd_NW',\n",
              "       'cbwd_SE', 'cbwd_cv', 'pm2.5'],\n",
              "      dtype='object')"
            ]
          },
          "metadata": {},
          "execution_count": 62
        }
      ]
    },
    {
      "cell_type": "code",
      "source": [
        "# Convert 'datetime' to datetime and set as index\n",
        "train['datetime'] = pd.to_datetime(train['datetime'])\n",
        "train.set_index('datetime', inplace=True)\n",
        "test['datetime'] = pd.to_datetime(test['datetime'])\n",
        "test.set_index('datetime', inplace=True)"
      ],
      "metadata": {
        "id": "Fh1jMuyQOW4K"
      },
      "execution_count": 66,
      "outputs": []
    },
    {
      "cell_type": "code",
      "source": [
        "# Extract time features\n",
        "for df in [train, test]:\n",
        "    df['hour'] = df.index.hour\n",
        "    df['day'] = df.index.day\n",
        "    df['month'] = df.index.month\n",
        "    df['year'] = df.index.year"
      ],
      "metadata": {
        "id": "0w6rHohE_Wrc"
      },
      "execution_count": 67,
      "outputs": []
    },
    {
      "cell_type": "code",
      "source": [
        "# Ensure 'datetime' column is in datetime format\n",
        "# train['datetime'] = pd.to_datetime(train['datetime'])\n",
        "\n",
        "# test['datetime'] = pd.to_datetime(test['datetime'])\n",
        "\n",
        "# Set the 'datetime' column as the index for better time-series handling\n",
        "# train.set_index('datetime', inplace=True)\n",
        "# val.set_index('datetime', inplace=True)\n",
        "# test.set_index('datetime', inplace=True)"
      ],
      "metadata": {
        "id": "f3mmIT7OeahE"
      },
      "execution_count": 30,
      "outputs": []
    },
    {
      "cell_type": "markdown",
      "source": [
        "##**Handle missing values**\n",
        "Check the dataset for missing values and decide how to handle them.\n",
        "In this example, missing values are filled with the mean. You can experiment with other strategies."
      ],
      "metadata": {
        "id": "i4Hm7PvUfC9q"
      }
    },
    {
      "cell_type": "code",
      "source": [
        "# Handle missing values using TRAINING data's mean\n",
        "train_mean = train.mean()\n",
        "train.fillna(train_mean, inplace=True)\n",
        "test.fillna(train_mean, inplace=True)"
      ],
      "metadata": {
        "id": "Y-ZzXsj4eajh"
      },
      "execution_count": 68,
      "outputs": []
    },
    {
      "cell_type": "markdown",
      "source": [
        "##**Separate features and target**\n",
        "Feel free to trop any non-essential columns like that you think might not contribute to modeling."
      ],
      "metadata": {
        "id": "ZnHTKIvZfQk0"
      }
    },
    {
      "cell_type": "code",
      "source": [
        "# Prepare features and target\n",
        "X = train.drop(['pm2.5', 'No'], axis=1)\n",
        "y = train['pm2.5']\n",
        "X_test = test.drop('No', axis=1)"
      ],
      "metadata": {
        "id": "BnYoYA3Dealv"
      },
      "execution_count": 69,
      "outputs": []
    },
    {
      "cell_type": "code",
      "source": [
        "# Split into train and validation (NO SHUFFLING)\n",
        "X_train, X_val, y_train, y_val = train_test_split(X, y, test_size=0.2, shuffle=False)"
      ],
      "metadata": {
        "id": "6Pi_ZU3WOx5G"
      },
      "execution_count": 70,
      "outputs": []
    },
    {
      "cell_type": "code",
      "source": [
        "# Scale data using training statistics\n",
        "scaler_X = MinMaxScaler().fit(X_train)\n",
        "scaler_y = MinMaxScaler().fit(y_train.values.reshape(-1, 1))\n",
        "\n",
        "X_train_scaled = scaler_X.transform(X_train)\n",
        "X_val_scaled = scaler_X.transform(X_val)\n",
        "X_test_scaled = scaler_X.transform(X_test)\n",
        "\n",
        "y_train_scaled = scaler_y.transform(y_train.values.reshape(-1, 1))\n",
        "y_val_scaled = scaler_y.transform(y_val.values.reshape(-1, 1))\n",
        "\n",
        "# Reshape for LSTM (samples, timesteps, features)\n",
        "def reshape_data(data):\n",
        "    return data.reshape((data.shape[0], 1, data.shape[1]))\n",
        "\n",
        "X_train_reshaped = reshape_data(X_train_scaled)\n",
        "X_val_reshaped = reshape_data(X_val_scaled)\n",
        "X_test_reshaped = reshape_data(X_test_scaled)"
      ],
      "metadata": {
        "id": "hH5Gn_ZbkiYK"
      },
      "execution_count": 71,
      "outputs": []
    },
    {
      "cell_type": "code",
      "source": [
        "# Reshape data for LSTM input\n",
        "# LSTM models require data in the shape (samples, timesteps, features).\n",
        "# Here, the data is reshaped to add a \"timesteps\" dimension.\n",
        "# X_train = np.expand_dims(X_train, axis=1)"
      ],
      "metadata": {
        "id": "h-CsHMaBeaoA"
      },
      "execution_count": null,
      "outputs": []
    },
    {
      "cell_type": "markdown",
      "source": [
        "##**Build model**\n",
        "Below is a simple LSTM model. Your task is to experiment with different parameters like, numbers of layers, units, activation functions, and optimizers, etc to get the best performing model. Experiment with other optimizers (e.g., SGD) or hyperparameters to improve performance."
      ],
      "metadata": {
        "id": "H6MhXKvXfcGI"
      }
    },
    {
      "cell_type": "code",
      "source": [
        "# Build LSTM model\n",
        "model = Sequential([\n",
        "    LSTM(128, return_sequences=True, input_shape=(X_train_reshaped.shape[1], X_train_reshaped.shape[2])),\n",
        "    Dropout(0.4),\n",
        "    LSTM(64, return_sequences=True),\n",
        "    Dropout(0.3),\n",
        "    LSTM(32),\n",
        "    Dropout(0.3),\n",
        "    Dense(64, activation='relu'),\n",
        "    Dense(1)\n",
        "])\n",
        "\n",
        "model.compile(\n",
        "    optimizer=Adam(learning_rate=0.001),\n",
        "    loss='mse',\n",
        "    metrics=['mae']\n",
        ")\n"
      ],
      "metadata": {
        "colab": {
          "base_uri": "https://localhost:8080/"
        },
        "id": "lGkBKfPMeaqq",
        "outputId": "ffb6091c-7793-45ae-d6c6-9c4bd2ff9f65"
      },
      "execution_count": 72,
      "outputs": [
        {
          "output_type": "stream",
          "name": "stderr",
          "text": [
            "/usr/local/lib/python3.11/dist-packages/keras/src/layers/rnn/rnn.py:200: UserWarning: Do not pass an `input_shape`/`input_dim` argument to a layer. When using Sequential models, prefer using an `Input(shape)` object as the first layer in the model instead.\n",
            "  super().__init__(**kwargs)\n"
          ]
        }
      ]
    },
    {
      "cell_type": "code",
      "source": [
        "# Train the model\n",
        "early_stopping = EarlyStopping(monitor='val_loss', patience=15, restore_best_weights=True)\n",
        "reduce_lr = ReduceLROnPlateau(monitor='val_loss', factor=0.5, patience=5, min_lr=1e-6)\n",
        "\n",
        "history = model.fit(\n",
        "    X_train_reshaped, y_train_scaled,\n",
        "    validation_data=(X_val_reshaped, y_val_scaled),\n",
        "    epochs=150,\n",
        "    batch_size=32,\n",
        "    callbacks=[early_stopping, reduce_lr],\n",
        "    verbose=1\n",
        ")"
      ],
      "metadata": {
        "colab": {
          "base_uri": "https://localhost:8080/"
        },
        "id": "dqvBkkmAeatN",
        "outputId": "1768165a-924c-4e0d-dc5f-14ba43813fcf"
      },
      "execution_count": 73,
      "outputs": [
        {
          "output_type": "stream",
          "name": "stdout",
          "text": [
            "Epoch 1/150\n",
            "\u001b[1m767/767\u001b[0m \u001b[32m━━━━━━━━━━━━━━━━━━━━\u001b[0m\u001b[37m\u001b[0m \u001b[1m14s\u001b[0m 11ms/step - loss: 0.0075 - mae: 0.0620 - val_loss: 0.0084 - val_mae: 0.0598 - learning_rate: 0.0010\n",
            "Epoch 2/150\n",
            "\u001b[1m767/767\u001b[0m \u001b[32m━━━━━━━━━━━━━━━━━━━━\u001b[0m\u001b[37m\u001b[0m \u001b[1m8s\u001b[0m 8ms/step - loss: 0.0058 - mae: 0.0534 - val_loss: 0.0098 - val_mae: 0.0618 - learning_rate: 0.0010\n",
            "Epoch 3/150\n",
            "\u001b[1m767/767\u001b[0m \u001b[32m━━━━━━━━━━━━━━━━━━━━\u001b[0m\u001b[37m\u001b[0m \u001b[1m7s\u001b[0m 10ms/step - loss: 0.0055 - mae: 0.0524 - val_loss: 0.0075 - val_mae: 0.0594 - learning_rate: 0.0010\n",
            "Epoch 4/150\n",
            "\u001b[1m767/767\u001b[0m \u001b[32m━━━━━━━━━━━━━━━━━━━━\u001b[0m\u001b[37m\u001b[0m \u001b[1m5s\u001b[0m 7ms/step - loss: 0.0055 - mae: 0.0517 - val_loss: 0.0072 - val_mae: 0.0573 - learning_rate: 0.0010\n",
            "Epoch 5/150\n",
            "\u001b[1m767/767\u001b[0m \u001b[32m━━━━━━━━━━━━━━━━━━━━\u001b[0m\u001b[37m\u001b[0m \u001b[1m10s\u001b[0m 7ms/step - loss: 0.0053 - mae: 0.0509 - val_loss: 0.0074 - val_mae: 0.0579 - learning_rate: 0.0010\n",
            "Epoch 6/150\n",
            "\u001b[1m767/767\u001b[0m \u001b[32m━━━━━━━━━━━━━━━━━━━━\u001b[0m\u001b[37m\u001b[0m \u001b[1m8s\u001b[0m 10ms/step - loss: 0.0052 - mae: 0.0506 - val_loss: 0.0081 - val_mae: 0.0580 - learning_rate: 0.0010\n",
            "Epoch 7/150\n",
            "\u001b[1m767/767\u001b[0m \u001b[32m━━━━━━━━━━━━━━━━━━━━\u001b[0m\u001b[37m\u001b[0m \u001b[1m7s\u001b[0m 9ms/step - loss: 0.0052 - mae: 0.0503 - val_loss: 0.0077 - val_mae: 0.0578 - learning_rate: 0.0010\n",
            "Epoch 8/150\n",
            "\u001b[1m767/767\u001b[0m \u001b[32m━━━━━━━━━━━━━━━━━━━━\u001b[0m\u001b[37m\u001b[0m \u001b[1m7s\u001b[0m 9ms/step - loss: 0.0051 - mae: 0.0498 - val_loss: 0.0078 - val_mae: 0.0584 - learning_rate: 0.0010\n",
            "Epoch 9/150\n",
            "\u001b[1m767/767\u001b[0m \u001b[32m━━━━━━━━━━━━━━━━━━━━\u001b[0m\u001b[37m\u001b[0m \u001b[1m9s\u001b[0m 8ms/step - loss: 0.0052 - mae: 0.0505 - val_loss: 0.0076 - val_mae: 0.0567 - learning_rate: 0.0010\n",
            "Epoch 10/150\n",
            "\u001b[1m767/767\u001b[0m \u001b[32m━━━━━━━━━━━━━━━━━━━━\u001b[0m\u001b[37m\u001b[0m \u001b[1m8s\u001b[0m 11ms/step - loss: 0.0051 - mae: 0.0490 - val_loss: 0.0073 - val_mae: 0.0591 - learning_rate: 5.0000e-04\n",
            "Epoch 11/150\n",
            "\u001b[1m767/767\u001b[0m \u001b[32m━━━━━━━━━━━━━━━━━━━━\u001b[0m\u001b[37m\u001b[0m \u001b[1m6s\u001b[0m 8ms/step - loss: 0.0049 - mae: 0.0487 - val_loss: 0.0073 - val_mae: 0.0560 - learning_rate: 5.0000e-04\n",
            "Epoch 12/150\n",
            "\u001b[1m767/767\u001b[0m \u001b[32m━━━━━━━━━━━━━━━━━━━━\u001b[0m\u001b[37m\u001b[0m \u001b[1m7s\u001b[0m 10ms/step - loss: 0.0048 - mae: 0.0481 - val_loss: 0.0069 - val_mae: 0.0546 - learning_rate: 5.0000e-04\n",
            "Epoch 13/150\n",
            "\u001b[1m767/767\u001b[0m \u001b[32m━━━━━━━━━━━━━━━━━━━━\u001b[0m\u001b[37m\u001b[0m \u001b[1m9s\u001b[0m 8ms/step - loss: 0.0047 - mae: 0.0476 - val_loss: 0.0074 - val_mae: 0.0558 - learning_rate: 5.0000e-04\n",
            "Epoch 14/150\n",
            "\u001b[1m767/767\u001b[0m \u001b[32m━━━━━━━━━━━━━━━━━━━━\u001b[0m\u001b[37m\u001b[0m \u001b[1m8s\u001b[0m 11ms/step - loss: 0.0048 - mae: 0.0479 - val_loss: 0.0063 - val_mae: 0.0544 - learning_rate: 5.0000e-04\n",
            "Epoch 15/150\n",
            "\u001b[1m767/767\u001b[0m \u001b[32m━━━━━━━━━━━━━━━━━━━━\u001b[0m\u001b[37m\u001b[0m \u001b[1m8s\u001b[0m 8ms/step - loss: 0.0047 - mae: 0.0481 - val_loss: 0.0070 - val_mae: 0.0546 - learning_rate: 5.0000e-04\n",
            "Epoch 16/150\n",
            "\u001b[1m767/767\u001b[0m \u001b[32m━━━━━━━━━━━━━━━━━━━━\u001b[0m\u001b[37m\u001b[0m \u001b[1m10s\u001b[0m 8ms/step - loss: 0.0049 - mae: 0.0478 - val_loss: 0.0067 - val_mae: 0.0537 - learning_rate: 5.0000e-04\n",
            "Epoch 17/150\n",
            "\u001b[1m767/767\u001b[0m \u001b[32m━━━━━━━━━━━━━━━━━━━━\u001b[0m\u001b[37m\u001b[0m \u001b[1m12s\u001b[0m 10ms/step - loss: 0.0046 - mae: 0.0469 - val_loss: 0.0069 - val_mae: 0.0542 - learning_rate: 5.0000e-04\n",
            "Epoch 18/150\n",
            "\u001b[1m767/767\u001b[0m \u001b[32m━━━━━━━━━━━━━━━━━━━━\u001b[0m\u001b[37m\u001b[0m \u001b[1m10s\u001b[0m 10ms/step - loss: 0.0045 - mae: 0.0462 - val_loss: 0.0069 - val_mae: 0.0548 - learning_rate: 5.0000e-04\n",
            "Epoch 19/150\n",
            "\u001b[1m767/767\u001b[0m \u001b[32m━━━━━━━━━━━━━━━━━━━━\u001b[0m\u001b[37m\u001b[0m \u001b[1m9s\u001b[0m 8ms/step - loss: 0.0045 - mae: 0.0469 - val_loss: 0.0074 - val_mae: 0.0556 - learning_rate: 5.0000e-04\n",
            "Epoch 20/150\n",
            "\u001b[1m767/767\u001b[0m \u001b[32m━━━━━━━━━━━━━━━━━━━━\u001b[0m\u001b[37m\u001b[0m \u001b[1m11s\u001b[0m 9ms/step - loss: 0.0046 - mae: 0.0472 - val_loss: 0.0069 - val_mae: 0.0544 - learning_rate: 2.5000e-04\n",
            "Epoch 21/150\n",
            "\u001b[1m767/767\u001b[0m \u001b[32m━━━━━━━━━━━━━━━━━━━━\u001b[0m\u001b[37m\u001b[0m \u001b[1m12s\u001b[0m 11ms/step - loss: 0.0045 - mae: 0.0464 - val_loss: 0.0070 - val_mae: 0.0551 - learning_rate: 2.5000e-04\n",
            "Epoch 22/150\n",
            "\u001b[1m767/767\u001b[0m \u001b[32m━━━━━━━━━━━━━━━━━━━━\u001b[0m\u001b[37m\u001b[0m \u001b[1m8s\u001b[0m 8ms/step - loss: 0.0046 - mae: 0.0463 - val_loss: 0.0068 - val_mae: 0.0543 - learning_rate: 2.5000e-04\n",
            "Epoch 23/150\n",
            "\u001b[1m767/767\u001b[0m \u001b[32m━━━━━━━━━━━━━━━━━━━━\u001b[0m\u001b[37m\u001b[0m \u001b[1m10s\u001b[0m 8ms/step - loss: 0.0045 - mae: 0.0458 - val_loss: 0.0067 - val_mae: 0.0544 - learning_rate: 2.5000e-04\n",
            "Epoch 24/150\n",
            "\u001b[1m767/767\u001b[0m \u001b[32m━━━━━━━━━━━━━━━━━━━━\u001b[0m\u001b[37m\u001b[0m \u001b[1m12s\u001b[0m 11ms/step - loss: 0.0044 - mae: 0.0458 - val_loss: 0.0062 - val_mae: 0.0530 - learning_rate: 2.5000e-04\n",
            "Epoch 25/150\n",
            "\u001b[1m767/767\u001b[0m \u001b[32m━━━━━━━━━━━━━━━━━━━━\u001b[0m\u001b[37m\u001b[0m \u001b[1m9s\u001b[0m 9ms/step - loss: 0.0046 - mae: 0.0463 - val_loss: 0.0070 - val_mae: 0.0550 - learning_rate: 2.5000e-04\n",
            "Epoch 26/150\n",
            "\u001b[1m767/767\u001b[0m \u001b[32m━━━━━━━━━━━━━━━━━━━━\u001b[0m\u001b[37m\u001b[0m \u001b[1m8s\u001b[0m 10ms/step - loss: 0.0045 - mae: 0.0464 - val_loss: 0.0070 - val_mae: 0.0542 - learning_rate: 2.5000e-04\n",
            "Epoch 27/150\n",
            "\u001b[1m767/767\u001b[0m \u001b[32m━━━━━━━━━━━━━━━━━━━━\u001b[0m\u001b[37m\u001b[0m \u001b[1m11s\u001b[0m 11ms/step - loss: 0.0045 - mae: 0.0458 - val_loss: 0.0067 - val_mae: 0.0539 - learning_rate: 2.5000e-04\n",
            "Epoch 28/150\n",
            "\u001b[1m767/767\u001b[0m \u001b[32m━━━━━━━━━━━━━━━━━━━━\u001b[0m\u001b[37m\u001b[0m \u001b[1m6s\u001b[0m 8ms/step - loss: 0.0043 - mae: 0.0457 - val_loss: 0.0069 - val_mae: 0.0543 - learning_rate: 2.5000e-04\n",
            "Epoch 29/150\n",
            "\u001b[1m767/767\u001b[0m \u001b[32m━━━━━━━━━━━━━━━━━━━━\u001b[0m\u001b[37m\u001b[0m \u001b[1m8s\u001b[0m 11ms/step - loss: 0.0043 - mae: 0.0457 - val_loss: 0.0064 - val_mae: 0.0525 - learning_rate: 2.5000e-04\n",
            "Epoch 30/150\n",
            "\u001b[1m767/767\u001b[0m \u001b[32m━━━━━━━━━━━━━━━━━━━━\u001b[0m\u001b[37m\u001b[0m \u001b[1m8s\u001b[0m 8ms/step - loss: 0.0043 - mae: 0.0450 - val_loss: 0.0068 - val_mae: 0.0538 - learning_rate: 1.2500e-04\n",
            "Epoch 31/150\n",
            "\u001b[1m767/767\u001b[0m \u001b[32m━━━━━━━━━━━━━━━━━━━━\u001b[0m\u001b[37m\u001b[0m \u001b[1m11s\u001b[0m 9ms/step - loss: 0.0044 - mae: 0.0456 - val_loss: 0.0068 - val_mae: 0.0542 - learning_rate: 1.2500e-04\n",
            "Epoch 32/150\n",
            "\u001b[1m767/767\u001b[0m \u001b[32m━━━━━━━━━━━━━━━━━━━━\u001b[0m\u001b[37m\u001b[0m \u001b[1m8s\u001b[0m 10ms/step - loss: 0.0045 - mae: 0.0458 - val_loss: 0.0071 - val_mae: 0.0550 - learning_rate: 1.2500e-04\n",
            "Epoch 33/150\n",
            "\u001b[1m767/767\u001b[0m \u001b[32m━━━━━━━━━━━━━━━━━━━━\u001b[0m\u001b[37m\u001b[0m \u001b[1m9s\u001b[0m 8ms/step - loss: 0.0043 - mae: 0.0451 - val_loss: 0.0066 - val_mae: 0.0534 - learning_rate: 1.2500e-04\n",
            "Epoch 34/150\n",
            "\u001b[1m767/767\u001b[0m \u001b[32m━━━━━━━━━━━━━━━━━━━━\u001b[0m\u001b[37m\u001b[0m \u001b[1m11s\u001b[0m 9ms/step - loss: 0.0044 - mae: 0.0458 - val_loss: 0.0068 - val_mae: 0.0540 - learning_rate: 1.2500e-04\n",
            "Epoch 35/150\n",
            "\u001b[1m767/767\u001b[0m \u001b[32m━━━━━━━━━━━━━━━━━━━━\u001b[0m\u001b[37m\u001b[0m \u001b[1m12s\u001b[0m 11ms/step - loss: 0.0042 - mae: 0.0448 - val_loss: 0.0066 - val_mae: 0.0536 - learning_rate: 6.2500e-05\n",
            "Epoch 36/150\n",
            "\u001b[1m767/767\u001b[0m \u001b[32m━━━━━━━━━━━━━━━━━━━━\u001b[0m\u001b[37m\u001b[0m \u001b[1m6s\u001b[0m 8ms/step - loss: 0.0041 - mae: 0.0445 - val_loss: 0.0066 - val_mae: 0.0537 - learning_rate: 6.2500e-05\n",
            "Epoch 37/150\n",
            "\u001b[1m767/767\u001b[0m \u001b[32m━━━━━━━━━━━━━━━━━━━━\u001b[0m\u001b[37m\u001b[0m \u001b[1m9s\u001b[0m 11ms/step - loss: 0.0043 - mae: 0.0451 - val_loss: 0.0066 - val_mae: 0.0536 - learning_rate: 6.2500e-05\n",
            "Epoch 38/150\n",
            "\u001b[1m767/767\u001b[0m \u001b[32m━━━━━━━━━━━━━━━━━━━━\u001b[0m\u001b[37m\u001b[0m \u001b[1m8s\u001b[0m 8ms/step - loss: 0.0045 - mae: 0.0456 - val_loss: 0.0066 - val_mae: 0.0540 - learning_rate: 6.2500e-05\n",
            "Epoch 39/150\n",
            "\u001b[1m767/767\u001b[0m \u001b[32m━━━━━━━━━━━━━━━━━━━━\u001b[0m\u001b[37m\u001b[0m \u001b[1m11s\u001b[0m 10ms/step - loss: 0.0043 - mae: 0.0447 - val_loss: 0.0066 - val_mae: 0.0535 - learning_rate: 6.2500e-05\n"
          ]
        }
      ]
    },
    {
      "cell_type": "code",
      "source": [
        "# Plot training history\n",
        "plt.figure(figsize=(10, 6))\n",
        "plt.plot(history.history['loss'], label='Training Loss')\n",
        "plt.plot(history.history['val_loss'], label='Validation Loss')\n",
        "plt.title('Loss Over Epochs')\n",
        "plt.xlabel('Epoch')\n",
        "plt.ylabel('MSE Loss')\n",
        "plt.legend()\n",
        "plt.show()"
      ],
      "metadata": {
        "colab": {
          "base_uri": "https://localhost:8080/",
          "height": 564
        },
        "id": "eb6Oqd34eaxc",
        "outputId": "76e68f68-d2ea-494f-b94a-71680e8a5c77"
      },
      "execution_count": 74,
      "outputs": [
        {
          "output_type": "display_data",
          "data": {
            "text/plain": [
              "<Figure size 1000x600 with 1 Axes>"
            ],
            "image/png": "[encoded data removed]"
          },
          "metadata": {}
        }
      ]
    },
    {
      "cell_type": "code",
      "source": [
        "# Predict on the test data\n",
        "predictions = model.predict(X_test_reshaped)\n",
        "\n",
        "# Inverse transform predictions to original scale\n",
        "predictions = scaler_y.inverse_transform(predictions)\n",
        "\n",
        "# Prepare submission with proper formatting\n",
        "submission = pd.DataFrame({\n",
        "    'row ID': test.index.strftime('%Y-%m-%d %-H:%M:%S'),\n",
        "    'pm2.5': predictions.flatten()\n",
        "})\n",
        "\n",
        "# Sort by row ID to ensure chronological order\n",
        "submission = submission.sort_values('row ID')\n",
        "\n",
        "# Save submission\n",
        "save_path = \"/content/drive/MyDrive/Kaggle_competition_ML/air_quality_forcasting/\"\n",
        "submission.to_csv(save_path + \"subm15_fixed_final.csv\", index=False)\n",
        "print(\"Submission file formatted and saved!\")"
      ],
      "metadata": {
        "colab": {
          "base_uri": "https://localhost:8080/"
        },
        "id": "qp4xg5Cieazx",
        "outputId": "143ab9d0-2631-4857-b646-9364f6cb1f96"
      },
      "execution_count": 76,
      "outputs": [
        {
          "output_type": "stream",
          "name": "stdout",
          "text": [
            "\u001b[1m411/411\u001b[0m \u001b[32m━━━━━━━━━━━━━━━━━━━━\u001b[0m\u001b[37m\u001b[0m \u001b[1m1s\u001b[0m 2ms/step\n",
            "Submission file formatted and saved!\n"
          ]
        }
      ]
    },
    {
      "cell_type": "markdown",
      "source": [],
      "metadata": {
        "id": "0HlZ4KY3z2uj"
      }
    },
    {
      "cell_type": "code",
      "source": [],
      "metadata": {
        "id": "2nC0Km1Pea2L"
      },
      "execution_count": null,
      "outputs": []
    },
    {
      "cell_type": "code",
      "source": [],
      "metadata": {
        "id": "HuWuBETcea5G"
      },
      "execution_count": null,
      "outputs": []
    },
    {
      "cell_type": "code",
      "source": [],
      "metadata": {
        "id": "63d7K_-oea8f"
      },
      "execution_count": null,
      "outputs": []
    }
  ]
}